{
 "cells": [
  {
   "cell_type": "markdown",
   "metadata": {
    "deletable": true,
    "editable": true
   },
   "source": [
    "# TV Script Generation\n",
    "In this project, you'll generate your own [Simpsons](https://en.wikipedia.org/wiki/The_Simpsons) TV scripts using RNNs.  You'll be using part of the [Simpsons dataset](https://www.kaggle.com/wcukierski/the-simpsons-by-the-data) of scripts from 27 seasons.  The Neural Network you'll build will generate a new TV script for a scene at [Moe's Tavern](https://simpsonswiki.com/wiki/Moe's_Tavern).\n",
    "## Get the Data\n",
    "The data is already provided for you.  You'll be using a subset of the original dataset.  It consists of only the scenes in Moe's Tavern.  This doesn't include other versions of the tavern, like \"Moe's Cavern\", \"Flaming Moe's\", \"Uncle Moe's Family Feed-Bag\", etc.."
   ]
  },
  {
   "cell_type": "code",
   "execution_count": 1,
   "metadata": {
    "collapsed": false,
    "deletable": true,
    "editable": true
   },
   "outputs": [],
   "source": [
    "\"\"\"\n",
    "DON'T MODIFY ANYTHING IN THIS CELL\n",
    "\"\"\"\n",
    "import helper\n",
    "\n",
    "data_dir = './data/simpsons/moes_tavern_lines.txt'\n",
    "text = helper.load_data(data_dir)\n",
    "# Ignore notice, since we don't use it for analysing the data\n",
    "text = text[81:]"
   ]
  },
  {
   "cell_type": "markdown",
   "metadata": {
    "deletable": true,
    "editable": true
   },
   "source": [
    "## Explore the Data\n",
    "Play around with `view_sentence_range` to view different parts of the data."
   ]
  },
  {
   "cell_type": "code",
   "execution_count": 2,
   "metadata": {
    "collapsed": false,
    "deletable": true,
    "editable": true,
    "scrolled": true
   },
   "outputs": [
    {
     "name": "stdout",
     "output_type": "stream",
     "text": [
      "Dataset Stats\n",
      "Roughly the number of unique words: 11492\n",
      "Number of scenes: 262\n",
      "Average number of sentences in each scene: 15.251908396946565\n",
      "Number of lines: 4258\n",
      "Average number of words in each line: 11.50164396430249\n",
      "\n",
      "The sentences 0 to 10:\n",
      "\n",
      "Moe_Szyslak: (INTO PHONE) Moe's Tavern. Where the elite meet to drink.\n",
      "Bart_Simpson: Eh, yeah, hello, is Mike there? Last name, Rotch.\n",
      "Moe_Szyslak: (INTO PHONE) Hold on, I'll check. (TO BARFLIES) Mike Rotch. Mike Rotch. Hey, has anybody seen Mike Rotch, lately?\n",
      "Moe_Szyslak: (INTO PHONE) Listen you little puke. One of these days I'm gonna catch you, and I'm gonna carve my name on your back with an ice pick.\n",
      "Moe_Szyslak: What's the matter Homer? You're not your normal effervescent self.\n",
      "Homer_Simpson: I got my problems, Moe. Give me another one.\n",
      "Moe_Szyslak: Homer, hey, you should not drink to forget your problems.\n",
      "Barney_Gumble: Yeah, you should only drink to enhance your social skills.\n",
      "\n"
     ]
    }
   ],
   "source": [
    "view_sentence_range = (0, 10)\n",
    "\n",
    "\"\"\"\n",
    "DON'T MODIFY ANYTHING IN THIS CELL\n",
    "\"\"\"\n",
    "import numpy as np\n",
    "\n",
    "print('Dataset Stats')\n",
    "print('Roughly the number of unique words: {}'.format(len({word: None for word in text.split()})))\n",
    "scenes = text.split('\\n\\n')\n",
    "print('Number of scenes: {}'.format(len(scenes)))\n",
    "sentence_count_scene = [scene.count('\\n') for scene in scenes]\n",
    "print('Average number of sentences in each scene: {}'.format(np.average(sentence_count_scene)))\n",
    "\n",
    "sentences = [sentence for scene in scenes for sentence in scene.split('\\n')]\n",
    "print('Number of lines: {}'.format(len(sentences)))\n",
    "word_count_sentence = [len(sentence.split()) for sentence in sentences]\n",
    "print('Average number of words in each line: {}'.format(np.average(word_count_sentence)))\n",
    "\n",
    "print()\n",
    "print('The sentences {} to {}:'.format(*view_sentence_range))\n",
    "print('\\n'.join(text.split('\\n')[view_sentence_range[0]:view_sentence_range[1]]))"
   ]
  },
  {
   "cell_type": "code",
   "execution_count": 49,
   "metadata": {
    "collapsed": false,
    "deletable": true,
    "editable": true,
    "scrolled": true
   },
   "outputs": [
    {
     "name": "stdout",
     "output_type": "stream",
     "text": [
      "Number of non-empty lines: 3996\n"
     ]
    },
    {
     "data": {
      "text/plain": [
       "[\"Moe_Szyslak: (INTO PHONE) Moe's Tavern. Where the elite meet to drink.\",\n",
       " 'Bart_Simpson: Eh, yeah, hello, is Mike there? Last name, Rotch.',\n",
       " \"Moe_Szyslak: (INTO PHONE) Hold on, I'll check. (TO BARFLIES) Mike Rotch. Mike Rotch. Hey, has anybody seen Mike Rotch, lately?\",\n",
       " \"Moe_Szyslak: (INTO PHONE) Listen you little puke. One of these days I'm gonna catch you, and I'm gonna carve my name on your back with an ice pick.\",\n",
       " \"Moe_Szyslak: What's the matter Homer? You're not your normal effervescent self.\",\n",
       " 'Homer_Simpson: I got my problems, Moe. Give me another one.',\n",
       " 'Moe_Szyslak: Homer, hey, you should not drink to forget your problems.',\n",
       " 'Barney_Gumble: Yeah, you should only drink to enhance your social skills.',\n",
       " \"Moe_Szyslak: Ah, isn't that nice. Now, there is a politician who cares.\",\n",
       " \"Barney_Gumble: If I ever vote, it'll be for him. (BELCH)\"]"
      ]
     },
     "execution_count": 49,
     "metadata": {},
     "output_type": "execute_result"
    }
   ],
   "source": [
    "non_empty_sentences = [sentence for scene in scenes for sentence in scene.split('\\n') if sentence]\n",
    "print('Number of non-empty lines: {}'.format(len(non_empty_sentences)))\n",
    "non_empty_sentences[:10]"
   ]
  },
  {
   "cell_type": "code",
   "execution_count": 4,
   "metadata": {
    "collapsed": false,
    "deletable": true,
    "editable": true,
    "scrolled": false
   },
   "outputs": [
    {
     "data": {
      "text/plain": [
       "\"\\nMoe_Szyslak: (INTO PHONE) Moe's Tavern. Where the elite meet to drink.\\nBart_Simpson: Eh, yeah, hello, is Mike there? Last name, Rotch.\\nMoe_Szyslak: (INTO PHONE) Hold on, I'll check. (TO BARFLIES) Mike Rotch. Mike Rotch. Hey, has anybody seen Mike Rotch, lately?\\nMoe_Szyslak: (INTO PHONE) Listen you little puke. One of these days I'm gonna catch you, and I'm gonna carve my name on your back with an ice pick.\\nMoe_Szyslak: What's the matter Homer? You're not your normal effervescent self.\\nHomer_Simpson: I got my problems, Moe. Give me another one.\\nMoe_Szyslak: Homer, hey, you should not drink to forget your problems.\\nBarney_Gumble: Yeah, you should only drink to enhance your social skills.\""
      ]
     },
     "execution_count": 4,
     "metadata": {},
     "output_type": "execute_result"
    }
   ],
   "source": [
    "scenes[0]"
   ]
  },
  {
   "cell_type": "code",
   "execution_count": 5,
   "metadata": {
    "collapsed": false
   },
   "outputs": [
    {
     "name": "stdout",
     "output_type": "stream",
     "text": [
      "Average number of words in non-empty lines: 12.255755755755755\n"
     ]
    }
   ],
   "source": [
    "word_count_non_empty_sentence = [len(sentence.split()) for sentence in non_empty_sentences]\n",
    "print('Average number of words in non-empty lines: {}'.format(np.average(word_count_non_empty_sentence)))"
   ]
  },
  {
   "cell_type": "markdown",
   "metadata": {
    "deletable": true,
    "editable": true
   },
   "source": [
    "## Implement Preprocessing Functions\n",
    "The first thing to do to any dataset is preprocessing.  Implement the following preprocessing functions below:\n",
    "- Lookup Table\n",
    "- Tokenize Punctuation\n",
    "\n",
    "### Lookup Table\n",
    "To create a word embedding, you first need to transform the words to ids.  In this function, create two dictionaries:\n",
    "- Dictionary to go from the words to an id, we'll call `vocab_to_int`\n",
    "- Dictionary to go from the id to word, we'll call `int_to_vocab`\n",
    "\n",
    "Return these dictionaries in the following tuple `(vocab_to_int, int_to_vocab)`"
   ]
  },
  {
   "cell_type": "code",
   "execution_count": 6,
   "metadata": {
    "collapsed": true
   },
   "outputs": [],
   "source": [
    "words = text.split()"
   ]
  },
  {
   "cell_type": "code",
   "execution_count": 7,
   "metadata": {
    "collapsed": false,
    "scrolled": true
   },
   "outputs": [
    {
     "data": {
      "text/plain": [
       "['Moe_Szyslak:',\n",
       " '(INTO',\n",
       " 'PHONE)',\n",
       " \"Moe's\",\n",
       " 'Tavern.',\n",
       " 'Where',\n",
       " 'the',\n",
       " 'elite',\n",
       " 'meet',\n",
       " 'to',\n",
       " 'drink.',\n",
       " 'Bart_Simpson:',\n",
       " 'Eh,',\n",
       " 'yeah,',\n",
       " 'hello,',\n",
       " 'is',\n",
       " 'Mike',\n",
       " 'there?',\n",
       " 'Last',\n",
       " 'name,',\n",
       " 'Rotch.',\n",
       " 'Moe_Szyslak:',\n",
       " '(INTO',\n",
       " 'PHONE)',\n",
       " 'Hold',\n",
       " 'on,',\n",
       " \"I'll\",\n",
       " 'check.',\n",
       " '(TO',\n",
       " 'BARFLIES)',\n",
       " 'Mike',\n",
       " 'Rotch.',\n",
       " 'Mike',\n",
       " 'Rotch.',\n",
       " 'Hey,',\n",
       " 'has',\n",
       " 'anybody',\n",
       " 'seen',\n",
       " 'Mike',\n",
       " 'Rotch,',\n",
       " 'lately?',\n",
       " 'Moe_Szyslak:',\n",
       " '(INTO',\n",
       " 'PHONE)',\n",
       " 'Listen',\n",
       " 'you',\n",
       " 'little',\n",
       " 'puke.',\n",
       " 'One',\n",
       " 'of',\n",
       " 'these',\n",
       " 'days',\n",
       " \"I'm\",\n",
       " 'gonna',\n",
       " 'catch',\n",
       " 'you,',\n",
       " 'and',\n",
       " \"I'm\",\n",
       " 'gonna',\n",
       " 'carve',\n",
       " 'my',\n",
       " 'name',\n",
       " 'on',\n",
       " 'your',\n",
       " 'back',\n",
       " 'with',\n",
       " 'an',\n",
       " 'ice',\n",
       " 'pick.',\n",
       " 'Moe_Szyslak:',\n",
       " \"What's\",\n",
       " 'the',\n",
       " 'matter',\n",
       " 'Homer?',\n",
       " \"You're\",\n",
       " 'not',\n",
       " 'your',\n",
       " 'normal',\n",
       " 'effervescent',\n",
       " 'self.',\n",
       " 'Homer_Simpson:',\n",
       " 'I',\n",
       " 'got',\n",
       " 'my',\n",
       " 'problems,',\n",
       " 'Moe.',\n",
       " 'Give',\n",
       " 'me',\n",
       " 'another',\n",
       " 'one.',\n",
       " 'Moe_Szyslak:',\n",
       " 'Homer,',\n",
       " 'hey,',\n",
       " 'you',\n",
       " 'should',\n",
       " 'not',\n",
       " 'drink',\n",
       " 'to',\n",
       " 'forget',\n",
       " 'your']"
      ]
     },
     "execution_count": 7,
     "metadata": {},
     "output_type": "execute_result"
    }
   ],
   "source": [
    "words[:100]"
   ]
  },
  {
   "cell_type": "code",
   "execution_count": 48,
   "metadata": {
    "collapsed": false
   },
   "outputs": [
    {
     "data": {
      "text/plain": [
       "['I',\n",
       " 'Moe_Szyslak:',\n",
       " 'the',\n",
       " 'Homer_Simpson:',\n",
       " 'a',\n",
       " 'you',\n",
       " 'to',\n",
       " 'of',\n",
       " 'and',\n",
       " 'my',\n",
       " 'in',\n",
       " \"I'm\",\n",
       " 'that',\n",
       " 'is',\n",
       " 'for',\n",
       " 'your',\n",
       " 'this',\n",
       " 'it',\n",
       " 'Lenny_Leonard:',\n",
       " 'You']"
      ]
     },
     "execution_count": 48,
     "metadata": {},
     "output_type": "execute_result"
    }
   ],
   "source": [
    "from collections import Counter\n",
    "words = text.split()\n",
    "counts = Counter(words)\n",
    "sorted(list(counts), key=counts.get, reverse=True)[:20]\n"
   ]
  },
  {
   "cell_type": "code",
   "execution_count": 9,
   "metadata": {
    "collapsed": false,
    "deletable": true,
    "editable": true
   },
   "outputs": [
    {
     "name": "stdout",
     "output_type": "stream",
     "text": [
      "Tests Passed\n"
     ]
    }
   ],
   "source": [
    "import numpy as np\n",
    "import problem_unittests as tests\n",
    "from collections import Counter\n",
    "\n",
    "def create_lookup_tables(text):\n",
    "    \"\"\"\n",
    "    Create lookup tables for vocabulary\n",
    "    :param text: The text of tv scripts split into words\n",
    "    :return: A tuple of dicts (vocab_to_int, int_to_vocab)\n",
    "    \"\"\"\n",
    "    # TODO: Implement Function\n",
    "    counts = Counter(text)\n",
    "    vocab = sorted(counts, key=counts.get, reverse=True)\n",
    "    vocab_to_int = {word:idx for idx, word in enumerate(vocab)}\n",
    "    int_to_vocab = {idx:word for idx, word in enumerate(vocab)}\n",
    "    return vocab_to_int, int_to_vocab\n",
    "\n",
    "\n",
    "\"\"\"\n",
    "DON'T MODIFY ANYTHING IN THIS CELL THAT IS BELOW THIS LINE\n",
    "\"\"\"\n",
    "tests.test_create_lookup_tables(create_lookup_tables)"
   ]
  },
  {
   "cell_type": "markdown",
   "metadata": {
    "deletable": true,
    "editable": true
   },
   "source": [
    "### Tokenize Punctuation\n",
    "We'll be splitting the script into a word array using spaces as delimiters.  However, punctuations like periods and exclamation marks make it hard for the neural network to distinguish between the word \"bye\" and \"bye!\".\n",
    "\n",
    "Implement the function `token_lookup` to return a dict that will be used to tokenize symbols like \"!\" into \"||Exclamation_Mark||\".  Create a dictionary for the following symbols where the symbol is the key and value is the token:\n",
    "- Period ( . )\n",
    "- Comma ( , )\n",
    "- Quotation Mark ( \" )\n",
    "- Semicolon ( ; )\n",
    "- Exclamation mark ( ! )\n",
    "- Question mark ( ? )\n",
    "- Left Parentheses ( ( )\n",
    "- Right Parentheses ( ) )\n",
    "- Dash ( -- )\n",
    "- Return ( \\n )\n",
    "\n",
    "This dictionary will be used to token the symbols and add the delimiter (space) around it.  This separates the symbols as it's own word, making it easier for the neural network to predict on the next word. Make sure you don't use a token that could be confused as a word. Instead of using the token \"dash\", try using something like \"||dash||\"."
   ]
  },
  {
   "cell_type": "code",
   "execution_count": 10,
   "metadata": {
    "collapsed": false,
    "deletable": true,
    "editable": true
   },
   "outputs": [
    {
     "name": "stdout",
     "output_type": "stream",
     "text": [
      "Tests Passed\n"
     ]
    }
   ],
   "source": [
    "def token_lookup():\n",
    "    \"\"\"\n",
    "    Generate a dict to turn punctuation into a token.\n",
    "    :return: Tokenize dictionary where the key is the punctuation and the value is the token\n",
    "    \"\"\"\n",
    "    # TODO: Implement Function\n",
    "    tokenize_lookup = {'.': '||Period||',\n",
    "                       ',': '||Comma||',\n",
    "                       '\"': '||Quotation_Mark||',\n",
    "                       ';': '||Semicolon||',\n",
    "                       '!': '||Exclamation_Mark||',\n",
    "                       '?': '||Question_Mark||',\n",
    "                       '(': '||Left_Parentheses||',\n",
    "                       ')': '||Right_Parentheses||',\n",
    "                       '--': '||Dash||',\n",
    "                       '\\n': '||Return||'\n",
    "                        }\n",
    "    return tokenize_lookup\n",
    "\n",
    "\"\"\"\n",
    "DON'T MODIFY ANYTHING IN THIS CELL THAT IS BELOW THIS LINE\n",
    "\"\"\"\n",
    "tests.test_tokenize(token_lookup)"
   ]
  },
  {
   "cell_type": "markdown",
   "metadata": {
    "deletable": true,
    "editable": true
   },
   "source": [
    "## Preprocess all the data and save it\n",
    "Running the code cell below will preprocess all the data and save it to file."
   ]
  },
  {
   "cell_type": "code",
   "execution_count": 11,
   "metadata": {
    "collapsed": false,
    "deletable": true,
    "editable": true
   },
   "outputs": [],
   "source": [
    "\"\"\"\n",
    "DON'T MODIFY ANYTHING IN THIS CELL\n",
    "\"\"\"\n",
    "# Preprocess Training, Validation, and Testing Data\n",
    "helper.preprocess_and_save_data(data_dir, token_lookup, create_lookup_tables)"
   ]
  },
  {
   "cell_type": "markdown",
   "metadata": {
    "deletable": true,
    "editable": true
   },
   "source": [
    "# Check Point\n",
    "This is your first checkpoint. If you ever decide to come back to this notebook or have to restart the notebook, you can start from here. The preprocessed data has been saved to disk."
   ]
  },
  {
   "cell_type": "code",
   "execution_count": 12,
   "metadata": {
    "collapsed": false,
    "deletable": true,
    "editable": true
   },
   "outputs": [],
   "source": [
    "\"\"\"\n",
    "DON'T MODIFY ANYTHING IN THIS CELL\n",
    "\"\"\"\n",
    "import helper\n",
    "import numpy as np\n",
    "import problem_unittests as tests\n",
    "\n",
    "int_text, vocab_to_int, int_to_vocab, token_dict = helper.load_preprocess()"
   ]
  },
  {
   "cell_type": "markdown",
   "metadata": {
    "deletable": true,
    "editable": true
   },
   "source": [
    "## Build the Neural Network\n",
    "You'll build the components necessary to build a RNN by implementing the following functions below:\n",
    "- get_inputs\n",
    "- get_init_cell\n",
    "- get_embed\n",
    "- build_rnn\n",
    "- build_nn\n",
    "- get_batches\n",
    "\n",
    "### Check the Version of TensorFlow and Access to GPU"
   ]
  },
  {
   "cell_type": "code",
   "execution_count": 13,
   "metadata": {
    "collapsed": false,
    "deletable": true,
    "editable": true
   },
   "outputs": [
    {
     "name": "stdout",
     "output_type": "stream",
     "text": [
      "TensorFlow Version: 1.0.1\n",
      "Default GPU Device: /gpu:0\n"
     ]
    }
   ],
   "source": [
    "\"\"\"\n",
    "DON'T MODIFY ANYTHING IN THIS CELL\n",
    "\"\"\"\n",
    "from distutils.version import LooseVersion\n",
    "import warnings\n",
    "import tensorflow as tf\n",
    "\n",
    "# Check TensorFlow Version\n",
    "assert LooseVersion(tf.__version__) >= LooseVersion('1.0'), 'Please use TensorFlow version 1.0 or newer'\n",
    "print('TensorFlow Version: {}'.format(tf.__version__))\n",
    "\n",
    "# Check for a GPU\n",
    "if not tf.test.gpu_device_name():\n",
    "    warnings.warn('No GPU found. Please use a GPU to train your neural network.')\n",
    "else:\n",
    "    print('Default GPU Device: {}'.format(tf.test.gpu_device_name()))"
   ]
  },
  {
   "cell_type": "markdown",
   "metadata": {
    "deletable": true,
    "editable": true
   },
   "source": [
    "### Input\n",
    "Implement the `get_inputs()` function to create TF Placeholders for the Neural Network.  It should create the following placeholders:\n",
    "- Input text placeholder named \"input\" using the [TF Placeholder](https://www.tensorflow.org/api_docs/python/tf/placeholder) `name` parameter.\n",
    "- Targets placeholder\n",
    "- Learning Rate placeholder\n",
    "\n",
    "Return the placeholders in the following the tuple `(Input, Targets, LearningRate)`"
   ]
  },
  {
   "cell_type": "code",
   "execution_count": 14,
   "metadata": {
    "collapsed": false,
    "deletable": true,
    "editable": true
   },
   "outputs": [
    {
     "name": "stdout",
     "output_type": "stream",
     "text": [
      "Tests Passed\n"
     ]
    }
   ],
   "source": [
    "def get_inputs():\n",
    "    \"\"\"\n",
    "    Create TF Placeholders for input, targets, and learning rate.\n",
    "    :return: Tuple (input, targets, learning rate)\n",
    "    \"\"\"\n",
    "    # TODO: Implement Function\n",
    "    Input = tf.placeholder(tf.int32, (None, None), name='input')\n",
    "    Targets = tf.placeholder(tf.int32, (None, None), name='targets')\n",
    "    LearningRate = tf.placeholder(tf.float32, name='learning_rate')\n",
    "    return Input, Targets, LearningRate\n",
    "\n",
    "\n",
    "\"\"\"\n",
    "DON'T MODIFY ANYTHING IN THIS CELL THAT IS BELOW THIS LINE\n",
    "\"\"\"\n",
    "tests.test_get_inputs(get_inputs)"
   ]
  },
  {
   "cell_type": "markdown",
   "metadata": {
    "deletable": true,
    "editable": true
   },
   "source": [
    "### Build RNN Cell and Initialize\n",
    "Stack one or more [`BasicLSTMCells`](https://www.tensorflow.org/api_docs/python/tf/contrib/rnn/BasicLSTMCell) in a [`MultiRNNCell`](https://www.tensorflow.org/api_docs/python/tf/contrib/rnn/MultiRNNCell).\n",
    "- The Rnn size should be set using `rnn_size`\n",
    "- Initalize Cell State using the MultiRNNCell's [`zero_state()`](https://www.tensorflow.org/api_docs/python/tf/contrib/rnn/MultiRNNCell#zero_state) function\n",
    "    - Apply the name \"initial_state\" to the initial state using [`tf.identity()`](https://www.tensorflow.org/api_docs/python/tf/identity)\n",
    "\n",
    "Return the cell and initial state in the following tuple `(Cell, InitialState)`"
   ]
  },
  {
   "cell_type": "code",
   "execution_count": 15,
   "metadata": {
    "collapsed": false,
    "deletable": true,
    "editable": true
   },
   "outputs": [
    {
     "name": "stdout",
     "output_type": "stream",
     "text": [
      "Tests Passed\n"
     ]
    }
   ],
   "source": [
    "def get_init_cell(batch_size, rnn_size, rnn_layers=1):\n",
    "    \"\"\"\n",
    "    Create an RNN Cell and initialize it.\n",
    "    :param batch_size: Size of batches\n",
    "    :param rnn_size: Size of RNNs\n",
    "    :return: Tuple (cell, initialize state)\n",
    "    \"\"\"\n",
    "    # TODO: Implement Function\n",
    "    lstm = tf.contrib.rnn.BasicLSTMCell(rnn_size)\n",
    "    #drop = tf.contrib.rnn.core_rnn_cell.DropoutWrapper(lstm, output_keep_prob=0.5)\n",
    "    cell = tf.contrib.rnn.MultiRNNCell([lstm] * rnn_layers)\n",
    "    InitialState = cell.zero_state(batch_size, tf.float32)\n",
    "    InitialState = tf.identity(InitialState, name='initial_state')\n",
    "    return cell, InitialState\n",
    "\n",
    "\n",
    "\"\"\"\n",
    "DON'T MODIFY ANYTHING IN THIS CELL THAT IS BELOW THIS LINE\n",
    "\"\"\"\n",
    "tests.test_get_init_cell(get_init_cell)"
   ]
  },
  {
   "cell_type": "markdown",
   "metadata": {
    "deletable": true,
    "editable": true
   },
   "source": [
    "### Word Embedding\n",
    "Apply embedding to `input_data` using TensorFlow.  Return the embedded sequence."
   ]
  },
  {
   "cell_type": "code",
   "execution_count": 16,
   "metadata": {
    "collapsed": false,
    "deletable": true,
    "editable": true
   },
   "outputs": [
    {
     "name": "stdout",
     "output_type": "stream",
     "text": [
      "Tests Passed\n"
     ]
    }
   ],
   "source": [
    "def get_embed(input_data, vocab_size, embed_dim):\n",
    "    \"\"\"\n",
    "    Create embedding for <input_data>.\n",
    "    :param input_data: TF placeholder for text input.\n",
    "    :param vocab_size: Number of words in vocabulary.\n",
    "    :param embed_dim: Number of embedding dimensions\n",
    "    :return: Embedded input.\n",
    "    \"\"\"\n",
    "    # TODO: Implement Function\n",
    "    embedding = tf.Variable(tf.random_uniform([vocab_size, embed_dim], -1, 1), name='embedding')\n",
    "    embed = tf.nn.embedding_lookup(embedding, input_data, name='embed')\n",
    "    return embed\n",
    "\n",
    "\n",
    "\"\"\"\n",
    "DON'T MODIFY ANYTHING IN THIS CELL THAT IS BELOW THIS LINE\n",
    "\"\"\"\n",
    "tests.test_get_embed(get_embed)"
   ]
  },
  {
   "cell_type": "markdown",
   "metadata": {
    "deletable": true,
    "editable": true
   },
   "source": [
    "### Build RNN\n",
    "You created a RNN Cell in the `get_init_cell()` function.  Time to use the cell to create a RNN.\n",
    "- Build the RNN using the [`tf.nn.dynamic_rnn()`](https://www.tensorflow.org/api_docs/python/tf/nn/dynamic_rnn)\n",
    " - Apply the name \"final_state\" to the final state using [`tf.identity()`](https://www.tensorflow.org/api_docs/python/tf/identity)\n",
    "\n",
    "Return the outputs and final_state state in the following tuple `(Outputs, FinalState)` "
   ]
  },
  {
   "cell_type": "code",
   "execution_count": 17,
   "metadata": {
    "collapsed": false,
    "deletable": true,
    "editable": true
   },
   "outputs": [
    {
     "name": "stdout",
     "output_type": "stream",
     "text": [
      "Tests Passed\n"
     ]
    }
   ],
   "source": [
    "def build_rnn(cell, inputs):\n",
    "    \"\"\"\n",
    "    Create a RNN using a RNN Cell\n",
    "    :param cell: RNN Cell\n",
    "    :param inputs: Input text data\n",
    "    :return: Tuple (Outputs, Final State)\n",
    "    \"\"\"\n",
    "    # TODO: Implement Function\n",
    "    outputs, state = tf.nn.dynamic_rnn(cell, inputs, dtype=tf.float32, swap_memory=True)\n",
    "    FinalState = tf.identity(state, name='final_state')\n",
    "    return outputs, FinalState\n",
    "\n",
    "\n",
    "\"\"\"\n",
    "DON'T MODIFY ANYTHING IN THIS CELL THAT IS BELOW THIS LINE\n",
    "\"\"\"\n",
    "tests.test_build_rnn(build_rnn)"
   ]
  },
  {
   "cell_type": "markdown",
   "metadata": {},
   "source": [
    "```\n",
    "# just checking output and state shapes\n",
    "with tf.Graph().as_default():\n",
    "    test_rnn_size = 256\n",
    "    test_rnn_layer_size = 3\n",
    "    test_cell = tf.contrib.rnn.MultiRNNCell([tf.contrib.rnn.BasicLSTMCell(test_rnn_size)] * test_rnn_layer_size)\n",
    "\n",
    "    test_inputs = tf.placeholder(tf.float32, [None, None, test_rnn_size])\n",
    "    outputs, final_state = build_rnn(test_cell, test_inputs)\n",
    "    print('cell.state_size:', test_cell.state_size)\n",
    "    print(type(test_cell.state_size[0]))\n",
    "    print('cell.output_size:', test_cell.output_size)\n",
    "    print('final_state shape:', final_state.get_shape())\n",
    "    print('outputs shape:', outputs.get_shape())\n",
    "\n",
    "\"\"\"\n",
    "cell.state_size: (LSTMStateTuple(c=256, h=256), LSTMStateTuple(c=256, h=256), LSTMStateTuple(c=256, h=256))\n",
    "<class 'tensorflow.contrib.rnn.python.ops.core_rnn_cell_impl.LSTMStateTuple'>\n",
    "cell.output_size: 256\n",
    "final_state shape: (3, 2, ?, 256)\n",
    "outputs shape: (?, ?, 256)\n",
    "\"\"\"\n",
    "```"
   ]
  },
  {
   "cell_type": "markdown",
   "metadata": {
    "deletable": true,
    "editable": true
   },
   "source": [
    "### Build the Neural Network\n",
    "Apply the functions you implemented above to:\n",
    "- Apply embedding to `input_data` using your `get_embed(input_data, vocab_size, embed_dim)` function.\n",
    "- Build RNN using `cell` and your `build_rnn(cell, inputs)` function.\n",
    "- Apply a fully connected layer with a linear activation and `vocab_size` as the number of outputs.\n",
    "\n",
    "Return the logits and final state in the following tuple (Logits, FinalState) "
   ]
  },
  {
   "cell_type": "code",
   "execution_count": 18,
   "metadata": {
    "collapsed": false,
    "deletable": true,
    "editable": true
   },
   "outputs": [
    {
     "name": "stdout",
     "output_type": "stream",
     "text": [
      "Tests Passed\n"
     ]
    }
   ],
   "source": [
    "def build_nn(cell, rnn_size, input_data, vocab_size, embed_dim=300):\n",
    "    \"\"\"\n",
    "    Build part of the neural network\n",
    "    :param cell: RNN cell\n",
    "    :param rnn_size: Size of rnns\n",
    "    :param input_data: Input data\n",
    "    :param vocab_size: Vocabulary size\n",
    "    :return: Tuple (Logits, FinalState)\n",
    "    \"\"\"\n",
    "    # TODO: Implement Function\n",
    "    embed = get_embed(input_data, vocab_size, embed_dim=embed_dim)\n",
    "    Outputs, FinalState = build_rnn(cell, embed)\n",
    "    Logits = tf.contrib.layers.fully_connected(Outputs, vocab_size, activation_fn=tf.identity)\n",
    "    \n",
    "    return Logits, FinalState\n",
    "\n",
    "\n",
    "\"\"\"\n",
    "DON'T MODIFY ANYTHING IN THIS CELL THAT IS BELOW THIS LINE\n",
    "\"\"\"\n",
    "tests.test_build_nn(build_nn)"
   ]
  },
  {
   "cell_type": "markdown",
   "metadata": {
    "deletable": true,
    "editable": true
   },
   "source": [
    "### Batches\n",
    "Implement `get_batches` to create batches of input and targets using `int_text`.  The batches should be a Numpy array with the shape `(number of batches, 2, batch size, sequence length)`. Each batch contains two elements:\n",
    "- The first element is a single batch of **input** with the shape `[batch size, sequence length]`\n",
    "- The second element is a single batch of **targets** with the shape `[batch size, sequence length]`\n",
    "\n",
    "If you can't fill the last batch with enough data, drop the last batch.\n",
    "\n",
    "For exmple, `get_batches([1, 2, 3, 4, 5, 6, 7, 8, 9, 10, 11, 12, 13, 14, 15], 2, 3)` would return a Numpy array of the following:\n",
    "```\n",
    "[\n",
    "  # First Batch\n",
    "  [\n",
    "    # Batch of Input\n",
    "    [[ 1  2  3], [ 7  8  9]],\n",
    "    # Batch of targets\n",
    "    [[ 2  3  4], [ 8  9 10]]\n",
    "  ],\n",
    " \n",
    "  # Second Batch\n",
    "  [\n",
    "    # Batch of Input\n",
    "    [[ 4  5  6], [10 11 12]],\n",
    "    # Batch of targets\n",
    "    [[ 5  6  7], [11 12 13]]\n",
    "  ]\n",
    "]\n",
    "```"
   ]
  },
  {
   "cell_type": "code",
   "execution_count": 19,
   "metadata": {
    "collapsed": false
   },
   "outputs": [
    {
     "data": {
      "text/plain": [
       "list"
      ]
     },
     "execution_count": 19,
     "metadata": {},
     "output_type": "execute_result"
    }
   ],
   "source": [
    "type(int_text)"
   ]
  },
  {
   "cell_type": "markdown",
   "metadata": {
    "collapsed": false,
    "deletable": true,
    "editable": true
   },
   "source": [
    "```\n",
    "def get_batches(int_text, batch_size, seq_length):\n",
    "    \"\"\"\n",
    "    Return batches of input and target\n",
    "    :param int_text: Text with the words replaced by their ids\n",
    "    :param batch_size: The size of batch\n",
    "    :param seq_length: The length of sequence\n",
    "    :return: Batches as a Numpy array\n",
    "    \"\"\"\n",
    "    # TODO: Implement Function\n",
    "    # int_text is divided into batches with (batch_size, seq_length) in each batch\n",
    "    num_batches = int(len(int_text)/(batch_size*seq_length))\n",
    "    batches = []\n",
    "    #print('num_batches:', num_batches)\n",
    "    for batches_i in range(num_batches):\n",
    "        batch_input = []\n",
    "        batch_target = []\n",
    "        for ii in range(batch_size):\n",
    "            start = batches_i * seq_length + ii * num_batches * seq_length\n",
    "            end = start + seq_length\n",
    "            batch_input.append(int_text[start:end])\n",
    "            batch_target.append(int_text[start+1:end+1])\n",
    "        #print(batch_input)\n",
    "        #print('batch_input shape:', np.array(batch_input).shape)\n",
    "        batches.append([batch_input, batch_target])\n",
    "    return np.array(batches)\n",
    "\n",
    "\n",
    "\"\"\"\n",
    "DON'T MODIFY ANYTHING IN THIS CELL THAT IS BELOW THIS LINE\n",
    "\"\"\"\n",
    "tests.test_get_batches(get_batches)\n",
    "```\n",
    "numpy reshape method is 3x faster"
   ]
  },
  {
   "cell_type": "code",
   "execution_count": 20,
   "metadata": {
    "collapsed": false,
    "deletable": true,
    "editable": true
   },
   "outputs": [
    {
     "name": "stdout",
     "output_type": "stream",
     "text": [
      "Tests Passed\n"
     ]
    }
   ],
   "source": [
    "def get_batches(int_text, batch_size, seq_length):\n",
    "    \"\"\"\n",
    "    Return batches of input and target\n",
    "    :param int_text: Text with the words replaced by their ids\n",
    "    :param batch_size: The size of batch\n",
    "    :param seq_length: The length of sequence\n",
    "    :return: Batches as a Numpy array\n",
    "    \"\"\"\n",
    "    # TODO: Implement Function\n",
    "    int_text = np.array(int_text)\n",
    "    # int_text is divided into batches with (batch_size * seq_length) in each batch\n",
    "    num_batches = int(len(int_text)/(batch_size * seq_length))\n",
    "    complete_batches_size = num_batches * batch_size * seq_length\n",
    "    # target is just the next word\n",
    "    int_target = int_text[1:complete_batches_size + 1]\n",
    "    # truncate int_text for reshape\n",
    "    int_text = int_text[:complete_batches_size]\n",
    "    \n",
    "    # split into batch_size buckets \n",
    "    new_shape = (batch_size, num_batches, seq_length)\n",
    "    int_text = int_text.reshape(new_shape)\n",
    "    int_target = int_target.reshape(new_shape)\n",
    "    \n",
    "    batches = []\n",
    "    for ii in range(num_batches):\n",
    "        # squeeze to reshape from (batch_size, 1, seq_length) to (batch_size, seq_length)\n",
    "        batch_input = int_text[:, ii:ii+1].squeeze()\n",
    "        batch_target = int_target[:, ii:ii+1].squeeze()\n",
    "        \n",
    "        batches.append([batch_input, batch_target])\n",
    "    return np.array(batches)\n",
    "\n",
    "\n",
    "\"\"\"\n",
    "DON'T MODIFY ANYTHING IN THIS CELL THAT IS BELOW THIS LINE\n",
    "\"\"\"\n",
    "tests.test_get_batches(get_batches)"
   ]
  },
  {
   "cell_type": "markdown",
   "metadata": {
    "deletable": true,
    "editable": true
   },
   "source": [
    "## Neural Network Training\n",
    "### Hyperparameters\n",
    "Tune the following parameters:\n",
    "\n",
    "- Set `num_epochs` to the number of epochs.\n",
    "- Set `batch_size` to the batch size.\n",
    "- Set `rnn_size` to the size of the RNNs.\n",
    "- Set `seq_length` to the length of sequence.\n",
    "- Set `learning_rate` to the learning rate.\n",
    "- Set `show_every_n_batches` to the number of batches the neural network should print progress."
   ]
  },
  {
   "cell_type": "code",
   "execution_count": 34,
   "metadata": {
    "collapsed": true,
    "deletable": true,
    "editable": true
   },
   "outputs": [],
   "source": [
    "# Number of Epochs\n",
    "num_epochs = 250\n",
    "# Batch Size\n",
    "batch_size = 64\n",
    "# RNN Size\n",
    "rnn_size = 256\n",
    "# Sequence Length\n",
    "seq_length = 50\n",
    "# Learning Rate\n",
    "learning_rate = 0.001\n",
    "# Show stats for every n number of batches\n",
    "show_every_n_batches = 7\n",
    "\n",
    "\"\"\"\n",
    "DON'T MODIFY ANYTHING IN THIS CELL THAT IS BELOW THIS LINE\n",
    "\"\"\"\n",
    "save_dir = './save'"
   ]
  },
  {
   "cell_type": "markdown",
   "metadata": {
    "deletable": true,
    "editable": true
   },
   "source": [
    "### Build the Graph\n",
    "Build the graph using the neural network you implemented."
   ]
  },
  {
   "cell_type": "code",
   "execution_count": 35,
   "metadata": {
    "collapsed": false,
    "deletable": true,
    "editable": true
   },
   "outputs": [],
   "source": [
    "\"\"\"\n",
    "DON'T MODIFY ANYTHING IN THIS CELL\n",
    "\"\"\"\n",
    "from tensorflow.contrib import seq2seq\n",
    "\n",
    "train_graph = tf.Graph()\n",
    "with train_graph.as_default():\n",
    "    vocab_size = len(int_to_vocab)\n",
    "    input_text, targets, lr = get_inputs()\n",
    "    input_data_shape = tf.shape(input_text)\n",
    "    cell, initial_state = get_init_cell(input_data_shape[0], rnn_size)\n",
    "    logits, final_state = build_nn(cell, rnn_size, input_text, vocab_size)\n",
    "\n",
    "    # Probabilities for generating words\n",
    "    probs = tf.nn.softmax(logits, name='probs')\n",
    "\n",
    "    # Loss function\n",
    "    cost = seq2seq.sequence_loss(\n",
    "        logits,\n",
    "        targets,\n",
    "        tf.ones([input_data_shape[0], input_data_shape[1]]))\n",
    "\n",
    "    # Optimizer\n",
    "    optimizer = tf.train.AdamOptimizer(lr)\n",
    "\n",
    "    # Gradient Clipping\n",
    "    gradients = optimizer.compute_gradients(cost)\n",
    "    capped_gradients = [(tf.clip_by_value(grad, -1., 1.), var) for grad, var in gradients]\n",
    "    train_op = optimizer.apply_gradients(capped_gradients)"
   ]
  },
  {
   "cell_type": "markdown",
   "metadata": {
    "deletable": true,
    "editable": true
   },
   "source": [
    "## Train\n",
    "Train the neural network on the preprocessed data.  If you have a hard time getting a good loss, check the [forms](https://discussions.udacity.com/) to see if anyone is having the same problem."
   ]
  },
  {
   "cell_type": "code",
   "execution_count": 36,
   "metadata": {
    "collapsed": true
   },
   "outputs": [],
   "source": [
    "import time\n",
    "start = time.time()"
   ]
  },
  {
   "cell_type": "code",
   "execution_count": 37,
   "metadata": {
    "collapsed": false,
    "deletable": true,
    "editable": true
   },
   "outputs": [
    {
     "name": "stdout",
     "output_type": "stream",
     "text": [
      "Epoch   0 Batch    0/21   train_loss = 8.820\n",
      "Epoch   0 Batch    7/21   train_loss = 7.949\n",
      "Epoch   0 Batch   14/21   train_loss = 6.449\n",
      "Epoch   1 Batch    0/21   train_loss = 6.128\n",
      "Epoch   1 Batch    7/21   train_loss = 6.099\n",
      "Epoch   1 Batch   14/21   train_loss = 5.943\n",
      "Epoch   2 Batch    0/21   train_loss = 5.997\n",
      "Epoch   2 Batch    7/21   train_loss = 5.871\n",
      "Epoch   2 Batch   14/21   train_loss = 5.820\n",
      "Epoch   3 Batch    0/21   train_loss = 5.819\n",
      "Epoch   3 Batch    7/21   train_loss = 5.683\n",
      "Epoch   3 Batch   14/21   train_loss = 5.648\n",
      "Epoch   4 Batch    0/21   train_loss = 5.641\n",
      "Epoch   4 Batch    7/21   train_loss = 5.511\n",
      "Epoch   4 Batch   14/21   train_loss = 5.494\n",
      "Epoch   5 Batch    0/21   train_loss = 5.492\n",
      "Epoch   5 Batch    7/21   train_loss = 5.361\n",
      "Epoch   5 Batch   14/21   train_loss = 5.357\n",
      "Epoch   6 Batch    0/21   train_loss = 5.359\n",
      "Epoch   6 Batch    7/21   train_loss = 5.227\n",
      "Epoch   6 Batch   14/21   train_loss = 5.229\n",
      "Epoch   7 Batch    0/21   train_loss = 5.236\n",
      "Epoch   7 Batch    7/21   train_loss = 5.103\n",
      "Epoch   7 Batch   14/21   train_loss = 5.112\n",
      "Epoch   8 Batch    0/21   train_loss = 5.123\n",
      "Epoch   8 Batch    7/21   train_loss = 4.988\n",
      "Epoch   8 Batch   14/21   train_loss = 5.005\n",
      "Epoch   9 Batch    0/21   train_loss = 5.021\n",
      "Epoch   9 Batch    7/21   train_loss = 4.886\n",
      "Epoch   9 Batch   14/21   train_loss = 4.908\n",
      "Epoch  10 Batch    0/21   train_loss = 4.930\n",
      "Epoch  10 Batch    7/21   train_loss = 4.795\n",
      "Epoch  10 Batch   14/21   train_loss = 4.821\n",
      "Epoch  11 Batch    0/21   train_loss = 4.848\n",
      "Epoch  11 Batch    7/21   train_loss = 4.714\n",
      "Epoch  11 Batch   14/21   train_loss = 4.742\n",
      "Epoch  12 Batch    0/21   train_loss = 4.773\n",
      "Epoch  12 Batch    7/21   train_loss = 4.640\n",
      "Epoch  12 Batch   14/21   train_loss = 4.670\n",
      "Epoch  13 Batch    0/21   train_loss = 4.704\n",
      "Epoch  13 Batch    7/21   train_loss = 4.571\n",
      "Epoch  13 Batch   14/21   train_loss = 4.603\n",
      "Epoch  14 Batch    0/21   train_loss = 4.638\n",
      "Epoch  14 Batch    7/21   train_loss = 4.505\n",
      "Epoch  14 Batch   14/21   train_loss = 4.541\n",
      "Epoch  15 Batch    0/21   train_loss = 4.576\n",
      "Epoch  15 Batch    7/21   train_loss = 4.443\n",
      "Epoch  15 Batch   14/21   train_loss = 4.481\n",
      "Epoch  16 Batch    0/21   train_loss = 4.516\n",
      "Epoch  16 Batch    7/21   train_loss = 4.385\n",
      "Epoch  16 Batch   14/21   train_loss = 4.424\n",
      "Epoch  17 Batch    0/21   train_loss = 4.459\n",
      "Epoch  17 Batch    7/21   train_loss = 4.329\n",
      "Epoch  17 Batch   14/21   train_loss = 4.370\n",
      "Epoch  18 Batch    0/21   train_loss = 4.405\n",
      "Epoch  18 Batch    7/21   train_loss = 4.276\n",
      "Epoch  18 Batch   14/21   train_loss = 4.318\n",
      "Epoch  19 Batch    0/21   train_loss = 4.352\n",
      "Epoch  19 Batch    7/21   train_loss = 4.224\n",
      "Epoch  19 Batch   14/21   train_loss = 4.267\n",
      "Epoch  20 Batch    0/21   train_loss = 4.300\n",
      "Epoch  20 Batch    7/21   train_loss = 4.175\n",
      "Epoch  20 Batch   14/21   train_loss = 4.218\n",
      "Epoch  21 Batch    0/21   train_loss = 4.251\n",
      "Epoch  21 Batch    7/21   train_loss = 4.127\n",
      "Epoch  21 Batch   14/21   train_loss = 4.171\n",
      "Epoch  22 Batch    0/21   train_loss = 4.203\n",
      "Epoch  22 Batch    7/21   train_loss = 4.081\n",
      "Epoch  22 Batch   14/21   train_loss = 4.125\n",
      "Epoch  23 Batch    0/21   train_loss = 4.156\n",
      "Epoch  23 Batch    7/21   train_loss = 4.036\n",
      "Epoch  23 Batch   14/21   train_loss = 4.080\n",
      "Epoch  24 Batch    0/21   train_loss = 4.110\n",
      "Epoch  24 Batch    7/21   train_loss = 3.992\n",
      "Epoch  24 Batch   14/21   train_loss = 4.037\n",
      "Epoch  25 Batch    0/21   train_loss = 4.065\n",
      "Epoch  25 Batch    7/21   train_loss = 3.949\n",
      "Epoch  25 Batch   14/21   train_loss = 3.995\n",
      "Epoch  26 Batch    0/21   train_loss = 4.022\n",
      "Epoch  26 Batch    7/21   train_loss = 3.908\n",
      "Epoch  26 Batch   14/21   train_loss = 3.954\n",
      "Epoch  27 Batch    0/21   train_loss = 3.979\n",
      "Epoch  27 Batch    7/21   train_loss = 3.867\n",
      "Epoch  27 Batch   14/21   train_loss = 3.914\n",
      "Epoch  28 Batch    0/21   train_loss = 3.937\n",
      "Epoch  28 Batch    7/21   train_loss = 3.827\n",
      "Epoch  28 Batch   14/21   train_loss = 3.875\n",
      "Epoch  29 Batch    0/21   train_loss = 3.897\n",
      "Epoch  29 Batch    7/21   train_loss = 3.788\n",
      "Epoch  29 Batch   14/21   train_loss = 3.837\n",
      "Epoch  30 Batch    0/21   train_loss = 3.858\n",
      "Epoch  30 Batch    7/21   train_loss = 3.750\n",
      "Epoch  30 Batch   14/21   train_loss = 3.800\n",
      "Epoch  31 Batch    0/21   train_loss = 3.821\n",
      "Epoch  31 Batch    7/21   train_loss = 3.715\n",
      "Epoch  31 Batch   14/21   train_loss = 3.765\n",
      "Epoch  32 Batch    0/21   train_loss = 3.781\n",
      "Epoch  32 Batch    7/21   train_loss = 3.680\n",
      "Epoch  32 Batch   14/21   train_loss = 3.731\n",
      "Epoch  33 Batch    0/21   train_loss = 3.745\n",
      "Epoch  33 Batch    7/21   train_loss = 3.645\n",
      "Epoch  33 Batch   14/21   train_loss = 3.698\n",
      "Epoch  34 Batch    0/21   train_loss = 3.708\n",
      "Epoch  34 Batch    7/21   train_loss = 3.611\n",
      "Epoch  34 Batch   14/21   train_loss = 3.665\n",
      "Epoch  35 Batch    0/21   train_loss = 3.677\n",
      "Epoch  35 Batch    7/21   train_loss = 3.576\n",
      "Epoch  35 Batch   14/21   train_loss = 3.629\n",
      "Epoch  36 Batch    0/21   train_loss = 3.641\n",
      "Epoch  36 Batch    7/21   train_loss = 3.544\n",
      "Epoch  36 Batch   14/21   train_loss = 3.596\n",
      "Epoch  37 Batch    0/21   train_loss = 3.605\n",
      "Epoch  37 Batch    7/21   train_loss = 3.511\n",
      "Epoch  37 Batch   14/21   train_loss = 3.563\n",
      "Epoch  38 Batch    0/21   train_loss = 3.571\n",
      "Epoch  38 Batch    7/21   train_loss = 3.481\n",
      "Epoch  38 Batch   14/21   train_loss = 3.532\n",
      "Epoch  39 Batch    0/21   train_loss = 3.538\n",
      "Epoch  39 Batch    7/21   train_loss = 3.450\n",
      "Epoch  39 Batch   14/21   train_loss = 3.503\n",
      "Epoch  40 Batch    0/21   train_loss = 3.508\n",
      "Epoch  40 Batch    7/21   train_loss = 3.419\n",
      "Epoch  40 Batch   14/21   train_loss = 3.473\n",
      "Epoch  41 Batch    0/21   train_loss = 3.479\n",
      "Epoch  41 Batch    7/21   train_loss = 3.392\n",
      "Epoch  41 Batch   14/21   train_loss = 3.443\n",
      "Epoch  42 Batch    0/21   train_loss = 3.444\n",
      "Epoch  42 Batch    7/21   train_loss = 3.362\n",
      "Epoch  42 Batch   14/21   train_loss = 3.412\n",
      "Epoch  43 Batch    0/21   train_loss = 3.413\n",
      "Epoch  43 Batch    7/21   train_loss = 3.334\n",
      "Epoch  43 Batch   14/21   train_loss = 3.383\n",
      "Epoch  44 Batch    0/21   train_loss = 3.381\n",
      "Epoch  44 Batch    7/21   train_loss = 3.306\n",
      "Epoch  44 Batch   14/21   train_loss = 3.357\n",
      "Epoch  45 Batch    0/21   train_loss = 3.353\n",
      "Epoch  45 Batch    7/21   train_loss = 3.274\n",
      "Epoch  45 Batch   14/21   train_loss = 3.325\n",
      "Epoch  46 Batch    0/21   train_loss = 3.322\n",
      "Epoch  46 Batch    7/21   train_loss = 3.245\n",
      "Epoch  46 Batch   14/21   train_loss = 3.296\n",
      "Epoch  47 Batch    0/21   train_loss = 3.293\n",
      "Epoch  47 Batch    7/21   train_loss = 3.217\n",
      "Epoch  47 Batch   14/21   train_loss = 3.268\n",
      "Epoch  48 Batch    0/21   train_loss = 3.266\n",
      "Epoch  48 Batch    7/21   train_loss = 3.191\n",
      "Epoch  48 Batch   14/21   train_loss = 3.246\n",
      "Epoch  49 Batch    0/21   train_loss = 3.236\n",
      "Epoch  49 Batch    7/21   train_loss = 3.165\n",
      "Epoch  49 Batch   14/21   train_loss = 3.223\n",
      "Epoch  50 Batch    0/21   train_loss = 3.210\n",
      "Epoch  50 Batch    7/21   train_loss = 3.138\n",
      "Epoch  50 Batch   14/21   train_loss = 3.194\n",
      "Epoch  51 Batch    0/21   train_loss = 3.183\n",
      "Epoch  51 Batch    7/21   train_loss = 3.108\n",
      "Epoch  51 Batch   14/21   train_loss = 3.168\n",
      "Epoch  52 Batch    0/21   train_loss = 3.154\n",
      "Epoch  52 Batch    7/21   train_loss = 3.081\n",
      "Epoch  52 Batch   14/21   train_loss = 3.142\n",
      "Epoch  53 Batch    0/21   train_loss = 3.125\n",
      "Epoch  53 Batch    7/21   train_loss = 3.056\n",
      "Epoch  53 Batch   14/21   train_loss = 3.119\n",
      "Epoch  54 Batch    0/21   train_loss = 3.096\n",
      "Epoch  54 Batch    7/21   train_loss = 3.029\n",
      "Epoch  54 Batch   14/21   train_loss = 3.096\n",
      "Epoch  55 Batch    0/21   train_loss = 3.071\n",
      "Epoch  55 Batch    7/21   train_loss = 3.001\n",
      "Epoch  55 Batch   14/21   train_loss = 3.067\n",
      "Epoch  56 Batch    0/21   train_loss = 3.045\n",
      "Epoch  56 Batch    7/21   train_loss = 2.976\n",
      "Epoch  56 Batch   14/21   train_loss = 3.045\n",
      "Epoch  57 Batch    0/21   train_loss = 3.021\n",
      "Epoch  57 Batch    7/21   train_loss = 2.953\n",
      "Epoch  57 Batch   14/21   train_loss = 3.021\n",
      "Epoch  58 Batch    0/21   train_loss = 2.998\n",
      "Epoch  58 Batch    7/21   train_loss = 2.938\n",
      "Epoch  58 Batch   14/21   train_loss = 3.002\n",
      "Epoch  59 Batch    0/21   train_loss = 2.970\n",
      "Epoch  59 Batch    7/21   train_loss = 2.909\n",
      "Epoch  59 Batch   14/21   train_loss = 2.980\n",
      "Epoch  60 Batch    0/21   train_loss = 2.947\n",
      "Epoch  60 Batch    7/21   train_loss = 2.884\n",
      "Epoch  60 Batch   14/21   train_loss = 2.952\n",
      "Epoch  61 Batch    0/21   train_loss = 2.921\n",
      "Epoch  61 Batch    7/21   train_loss = 2.862\n",
      "Epoch  61 Batch   14/21   train_loss = 2.931\n",
      "Epoch  62 Batch    0/21   train_loss = 2.903\n",
      "Epoch  62 Batch    7/21   train_loss = 2.844\n",
      "Epoch  62 Batch   14/21   train_loss = 2.908\n",
      "Epoch  63 Batch    0/21   train_loss = 2.881\n",
      "Epoch  63 Batch    7/21   train_loss = 2.824\n",
      "Epoch  63 Batch   14/21   train_loss = 2.890\n",
      "Epoch  64 Batch    0/21   train_loss = 2.855\n",
      "Epoch  64 Batch    7/21   train_loss = 2.796\n",
      "Epoch  64 Batch   14/21   train_loss = 2.866\n",
      "Epoch  65 Batch    0/21   train_loss = 2.833\n",
      "Epoch  65 Batch    7/21   train_loss = 2.774\n",
      "Epoch  65 Batch   14/21   train_loss = 2.847\n",
      "Epoch  66 Batch    0/21   train_loss = 2.814\n",
      "Epoch  66 Batch    7/21   train_loss = 2.757\n",
      "Epoch  66 Batch   14/21   train_loss = 2.831\n",
      "Epoch  67 Batch    0/21   train_loss = 2.796\n",
      "Epoch  67 Batch    7/21   train_loss = 2.745\n",
      "Epoch  67 Batch   14/21   train_loss = 2.812\n",
      "Epoch  68 Batch    0/21   train_loss = 2.769\n",
      "Epoch  68 Batch    7/21   train_loss = 2.721\n",
      "Epoch  68 Batch   14/21   train_loss = 2.793\n",
      "Epoch  69 Batch    0/21   train_loss = 2.744\n",
      "Epoch  69 Batch    7/21   train_loss = 2.701\n",
      "Epoch  69 Batch   14/21   train_loss = 2.776\n",
      "Epoch  70 Batch    0/21   train_loss = 2.726\n",
      "Epoch  70 Batch    7/21   train_loss = 2.683\n",
      "Epoch  70 Batch   14/21   train_loss = 2.748\n",
      "Epoch  71 Batch    0/21   train_loss = 2.705\n",
      "Epoch  71 Batch    7/21   train_loss = 2.664\n",
      "Epoch  71 Batch   14/21   train_loss = 2.731\n",
      "Epoch  72 Batch    0/21   train_loss = 2.682\n",
      "Epoch  72 Batch    7/21   train_loss = 2.646\n",
      "Epoch  72 Batch   14/21   train_loss = 2.715\n",
      "Epoch  73 Batch    0/21   train_loss = 2.660\n",
      "Epoch  73 Batch    7/21   train_loss = 2.631\n",
      "Epoch  73 Batch   14/21   train_loss = 2.692\n",
      "Epoch  74 Batch    0/21   train_loss = 2.641\n",
      "Epoch  74 Batch    7/21   train_loss = 2.615\n",
      "Epoch  74 Batch   14/21   train_loss = 2.669\n",
      "Epoch  75 Batch    0/21   train_loss = 2.621\n",
      "Epoch  75 Batch    7/21   train_loss = 2.597\n",
      "Epoch  75 Batch   14/21   train_loss = 2.648\n",
      "Epoch  76 Batch    0/21   train_loss = 2.601\n",
      "Epoch  76 Batch    7/21   train_loss = 2.579\n",
      "Epoch  76 Batch   14/21   train_loss = 2.627\n",
      "Epoch  77 Batch    0/21   train_loss = 2.583\n",
      "Epoch  77 Batch    7/21   train_loss = 2.559\n",
      "Epoch  77 Batch   14/21   train_loss = 2.609\n",
      "Epoch  78 Batch    0/21   train_loss = 2.567\n",
      "Epoch  78 Batch    7/21   train_loss = 2.538\n",
      "Epoch  78 Batch   14/21   train_loss = 2.588\n",
      "Epoch  79 Batch    0/21   train_loss = 2.547\n",
      "Epoch  79 Batch    7/21   train_loss = 2.517\n",
      "Epoch  79 Batch   14/21   train_loss = 2.567\n",
      "Epoch  80 Batch    0/21   train_loss = 2.524\n",
      "Epoch  80 Batch    7/21   train_loss = 2.498\n",
      "Epoch  80 Batch   14/21   train_loss = 2.550\n",
      "Epoch  81 Batch    0/21   train_loss = 2.505\n",
      "Epoch  81 Batch    7/21   train_loss = 2.478\n",
      "Epoch  81 Batch   14/21   train_loss = 2.537\n",
      "Epoch  82 Batch    0/21   train_loss = 2.490\n",
      "Epoch  82 Batch    7/21   train_loss = 2.460\n",
      "Epoch  82 Batch   14/21   train_loss = 2.517\n",
      "Epoch  83 Batch    0/21   train_loss = 2.467\n",
      "Epoch  83 Batch    7/21   train_loss = 2.447\n",
      "Epoch  83 Batch   14/21   train_loss = 2.496\n",
      "Epoch  84 Batch    0/21   train_loss = 2.448\n",
      "Epoch  84 Batch    7/21   train_loss = 2.436\n",
      "Epoch  84 Batch   14/21   train_loss = 2.482\n",
      "Epoch  85 Batch    0/21   train_loss = 2.429\n",
      "Epoch  85 Batch    7/21   train_loss = 2.419\n",
      "Epoch  85 Batch   14/21   train_loss = 2.465\n",
      "Epoch  86 Batch    0/21   train_loss = 2.411\n",
      "Epoch  86 Batch    7/21   train_loss = 2.401\n",
      "Epoch  86 Batch   14/21   train_loss = 2.438\n",
      "Epoch  87 Batch    0/21   train_loss = 2.389\n",
      "Epoch  87 Batch    7/21   train_loss = 2.392\n",
      "Epoch  87 Batch   14/21   train_loss = 2.417\n",
      "Epoch  88 Batch    0/21   train_loss = 2.379\n",
      "Epoch  88 Batch    7/21   train_loss = 2.382\n",
      "Epoch  88 Batch   14/21   train_loss = 2.404\n",
      "Epoch  89 Batch    0/21   train_loss = 2.370\n",
      "Epoch  89 Batch    7/21   train_loss = 2.355\n",
      "Epoch  89 Batch   14/21   train_loss = 2.389\n",
      "Epoch  90 Batch    0/21   train_loss = 2.356\n",
      "Epoch  90 Batch    7/21   train_loss = 2.336\n",
      "Epoch  90 Batch   14/21   train_loss = 2.372\n",
      "Epoch  91 Batch    0/21   train_loss = 2.339\n",
      "Epoch  91 Batch    7/21   train_loss = 2.320\n",
      "Epoch  91 Batch   14/21   train_loss = 2.360\n",
      "Epoch  92 Batch    0/21   train_loss = 2.322\n",
      "Epoch  92 Batch    7/21   train_loss = 2.302\n",
      "Epoch  92 Batch   14/21   train_loss = 2.343\n",
      "Epoch  93 Batch    0/21   train_loss = 2.309\n",
      "Epoch  93 Batch    7/21   train_loss = 2.286\n",
      "Epoch  93 Batch   14/21   train_loss = 2.328\n",
      "Epoch  94 Batch    0/21   train_loss = 2.300\n",
      "Epoch  94 Batch    7/21   train_loss = 2.267\n",
      "Epoch  94 Batch   14/21   train_loss = 2.322\n",
      "Epoch  95 Batch    0/21   train_loss = 2.280\n",
      "Epoch  95 Batch    7/21   train_loss = 2.249\n",
      "Epoch  95 Batch   14/21   train_loss = 2.313\n",
      "Epoch  96 Batch    0/21   train_loss = 2.252\n",
      "Epoch  96 Batch    7/21   train_loss = 2.230\n",
      "Epoch  96 Batch   14/21   train_loss = 2.291\n",
      "Epoch  97 Batch    0/21   train_loss = 2.224\n",
      "Epoch  97 Batch    7/21   train_loss = 2.212\n",
      "Epoch  97 Batch   14/21   train_loss = 2.267\n",
      "Epoch  98 Batch    0/21   train_loss = 2.201\n",
      "Epoch  98 Batch    7/21   train_loss = 2.197\n",
      "Epoch  98 Batch   14/21   train_loss = 2.240\n",
      "Epoch  99 Batch    0/21   train_loss = 2.178\n",
      "Epoch  99 Batch    7/21   train_loss = 2.176\n",
      "Epoch  99 Batch   14/21   train_loss = 2.213\n",
      "Epoch 100 Batch    0/21   train_loss = 2.160\n",
      "Epoch 100 Batch    7/21   train_loss = 2.155\n",
      "Epoch 100 Batch   14/21   train_loss = 2.192\n",
      "Epoch 101 Batch    0/21   train_loss = 2.145\n",
      "Epoch 101 Batch    7/21   train_loss = 2.136\n",
      "Epoch 101 Batch   14/21   train_loss = 2.170\n",
      "Epoch 102 Batch    0/21   train_loss = 2.125\n",
      "Epoch 102 Batch    7/21   train_loss = 2.113\n",
      "Epoch 102 Batch   14/21   train_loss = 2.154\n",
      "Epoch 103 Batch    0/21   train_loss = 2.110\n",
      "Epoch 103 Batch    7/21   train_loss = 2.094\n",
      "Epoch 103 Batch   14/21   train_loss = 2.140\n",
      "Epoch 104 Batch    0/21   train_loss = 2.089\n",
      "Epoch 104 Batch    7/21   train_loss = 2.081\n",
      "Epoch 104 Batch   14/21   train_loss = 2.124\n",
      "Epoch 105 Batch    0/21   train_loss = 2.070\n",
      "Epoch 105 Batch    7/21   train_loss = 2.066\n",
      "Epoch 105 Batch   14/21   train_loss = 2.106\n",
      "Epoch 106 Batch    0/21   train_loss = 2.046\n",
      "Epoch 106 Batch    7/21   train_loss = 2.048\n",
      "Epoch 106 Batch   14/21   train_loss = 2.085\n",
      "Epoch 107 Batch    0/21   train_loss = 2.028\n",
      "Epoch 107 Batch    7/21   train_loss = 2.029\n",
      "Epoch 107 Batch   14/21   train_loss = 2.067\n",
      "Epoch 108 Batch    0/21   train_loss = 2.018\n",
      "Epoch 108 Batch    7/21   train_loss = 2.015\n",
      "Epoch 108 Batch   14/21   train_loss = 2.049\n",
      "Epoch 109 Batch    0/21   train_loss = 1.999\n",
      "Epoch 109 Batch    7/21   train_loss = 1.993\n",
      "Epoch 109 Batch   14/21   train_loss = 2.032\n",
      "Epoch 110 Batch    0/21   train_loss = 1.979\n",
      "Epoch 110 Batch    7/21   train_loss = 1.976\n",
      "Epoch 110 Batch   14/21   train_loss = 2.015\n",
      "Epoch 111 Batch    0/21   train_loss = 1.963\n",
      "Epoch 111 Batch    7/21   train_loss = 1.958\n",
      "Epoch 111 Batch   14/21   train_loss = 2.002\n",
      "Epoch 112 Batch    0/21   train_loss = 1.948\n",
      "Epoch 112 Batch    7/21   train_loss = 1.942\n",
      "Epoch 112 Batch   14/21   train_loss = 1.982\n",
      "Epoch 113 Batch    0/21   train_loss = 1.926\n",
      "Epoch 113 Batch    7/21   train_loss = 1.925\n",
      "Epoch 113 Batch   14/21   train_loss = 1.964\n",
      "Epoch 114 Batch    0/21   train_loss = 1.909\n",
      "Epoch 114 Batch    7/21   train_loss = 1.909\n",
      "Epoch 114 Batch   14/21   train_loss = 1.948\n",
      "Epoch 115 Batch    0/21   train_loss = 1.891\n",
      "Epoch 115 Batch    7/21   train_loss = 1.892\n",
      "Epoch 115 Batch   14/21   train_loss = 1.933\n",
      "Epoch 116 Batch    0/21   train_loss = 1.881\n",
      "Epoch 116 Batch    7/21   train_loss = 1.878\n",
      "Epoch 116 Batch   14/21   train_loss = 1.914\n",
      "Epoch 117 Batch    0/21   train_loss = 1.858\n",
      "Epoch 117 Batch    7/21   train_loss = 1.860\n",
      "Epoch 117 Batch   14/21   train_loss = 1.899\n",
      "Epoch 118 Batch    0/21   train_loss = 1.841\n",
      "Epoch 118 Batch    7/21   train_loss = 1.846\n",
      "Epoch 118 Batch   14/21   train_loss = 1.886\n",
      "Epoch 119 Batch    0/21   train_loss = 1.825\n",
      "Epoch 119 Batch    7/21   train_loss = 1.831\n",
      "Epoch 119 Batch   14/21   train_loss = 1.875\n",
      "Epoch 120 Batch    0/21   train_loss = 1.821\n",
      "Epoch 120 Batch    7/21   train_loss = 1.821\n",
      "Epoch 120 Batch   14/21   train_loss = 1.852\n",
      "Epoch 121 Batch    0/21   train_loss = 1.794\n",
      "Epoch 121 Batch    7/21   train_loss = 1.800\n",
      "Epoch 121 Batch   14/21   train_loss = 1.840\n",
      "Epoch 122 Batch    0/21   train_loss = 1.777\n",
      "Epoch 122 Batch    7/21   train_loss = 1.786\n",
      "Epoch 122 Batch   14/21   train_loss = 1.824\n",
      "Epoch 123 Batch    0/21   train_loss = 1.765\n",
      "Epoch 123 Batch    7/21   train_loss = 1.769\n",
      "Epoch 123 Batch   14/21   train_loss = 1.806\n",
      "Epoch 124 Batch    0/21   train_loss = 1.753\n",
      "Epoch 124 Batch    7/21   train_loss = 1.754\n",
      "Epoch 124 Batch   14/21   train_loss = 1.788\n",
      "Epoch 125 Batch    0/21   train_loss = 1.728\n",
      "Epoch 125 Batch    7/21   train_loss = 1.737\n",
      "Epoch 125 Batch   14/21   train_loss = 1.771\n",
      "Epoch 126 Batch    0/21   train_loss = 1.714\n",
      "Epoch 126 Batch    7/21   train_loss = 1.724\n",
      "Epoch 126 Batch   14/21   train_loss = 1.757\n",
      "Epoch 127 Batch    0/21   train_loss = 1.703\n",
      "Epoch 127 Batch    7/21   train_loss = 1.709\n",
      "Epoch 127 Batch   14/21   train_loss = 1.741\n",
      "Epoch 128 Batch    0/21   train_loss = 1.690\n",
      "Epoch 128 Batch    7/21   train_loss = 1.693\n",
      "Epoch 128 Batch   14/21   train_loss = 1.722\n",
      "Epoch 129 Batch    0/21   train_loss = 1.670\n",
      "Epoch 129 Batch    7/21   train_loss = 1.677\n",
      "Epoch 129 Batch   14/21   train_loss = 1.710\n",
      "Epoch 130 Batch    0/21   train_loss = 1.653\n",
      "Epoch 130 Batch    7/21   train_loss = 1.665\n",
      "Epoch 130 Batch   14/21   train_loss = 1.703\n",
      "Epoch 131 Batch    0/21   train_loss = 1.646\n",
      "Epoch 131 Batch    7/21   train_loss = 1.647\n",
      "Epoch 131 Batch   14/21   train_loss = 1.684\n",
      "Epoch 132 Batch    0/21   train_loss = 1.632\n",
      "Epoch 132 Batch    7/21   train_loss = 1.635\n",
      "Epoch 132 Batch   14/21   train_loss = 1.667\n",
      "Epoch 133 Batch    0/21   train_loss = 1.621\n",
      "Epoch 133 Batch    7/21   train_loss = 1.619\n",
      "Epoch 133 Batch   14/21   train_loss = 1.655\n",
      "Epoch 134 Batch    0/21   train_loss = 1.607\n",
      "Epoch 134 Batch    7/21   train_loss = 1.605\n",
      "Epoch 134 Batch   14/21   train_loss = 1.654\n",
      "Epoch 135 Batch    0/21   train_loss = 1.599\n",
      "Epoch 135 Batch    7/21   train_loss = 1.589\n",
      "Epoch 135 Batch   14/21   train_loss = 1.632\n",
      "Epoch 136 Batch    0/21   train_loss = 1.580\n",
      "Epoch 136 Batch    7/21   train_loss = 1.573\n",
      "Epoch 136 Batch   14/21   train_loss = 1.615\n",
      "Epoch 137 Batch    0/21   train_loss = 1.564\n",
      "Epoch 137 Batch    7/21   train_loss = 1.569\n",
      "Epoch 137 Batch   14/21   train_loss = 1.612\n",
      "Epoch 138 Batch    0/21   train_loss = 1.549\n",
      "Epoch 138 Batch    7/21   train_loss = 1.560\n",
      "Epoch 138 Batch   14/21   train_loss = 1.606\n",
      "Epoch 139 Batch    0/21   train_loss = 1.535\n",
      "Epoch 139 Batch    7/21   train_loss = 1.542\n",
      "Epoch 139 Batch   14/21   train_loss = 1.583\n",
      "Epoch 140 Batch    0/21   train_loss = 1.517\n",
      "Epoch 140 Batch    7/21   train_loss = 1.534\n",
      "Epoch 140 Batch   14/21   train_loss = 1.567\n",
      "Epoch 141 Batch    0/21   train_loss = 1.507\n",
      "Epoch 141 Batch    7/21   train_loss = 1.525\n",
      "Epoch 141 Batch   14/21   train_loss = 1.557\n",
      "Epoch 142 Batch    0/21   train_loss = 1.494\n",
      "Epoch 142 Batch    7/21   train_loss = 1.513\n",
      "Epoch 142 Batch   14/21   train_loss = 1.550\n",
      "Epoch 143 Batch    0/21   train_loss = 1.481\n",
      "Epoch 143 Batch    7/21   train_loss = 1.504\n",
      "Epoch 143 Batch   14/21   train_loss = 1.534\n",
      "Epoch 144 Batch    0/21   train_loss = 1.475\n",
      "Epoch 144 Batch    7/21   train_loss = 1.504\n",
      "Epoch 144 Batch   14/21   train_loss = 1.524\n",
      "Epoch 145 Batch    0/21   train_loss = 1.474\n",
      "Epoch 145 Batch    7/21   train_loss = 1.500\n",
      "Epoch 145 Batch   14/21   train_loss = 1.511\n",
      "Epoch 146 Batch    0/21   train_loss = 1.465\n",
      "Epoch 146 Batch    7/21   train_loss = 1.480\n",
      "Epoch 146 Batch   14/21   train_loss = 1.502\n",
      "Epoch 147 Batch    0/21   train_loss = 1.465\n",
      "Epoch 147 Batch    7/21   train_loss = 1.459\n",
      "Epoch 147 Batch   14/21   train_loss = 1.494\n",
      "Epoch 148 Batch    0/21   train_loss = 1.455\n",
      "Epoch 148 Batch    7/21   train_loss = 1.436\n",
      "Epoch 148 Batch   14/21   train_loss = 1.492\n",
      "Epoch 149 Batch    0/21   train_loss = 1.436\n",
      "Epoch 149 Batch    7/21   train_loss = 1.424\n",
      "Epoch 149 Batch   14/21   train_loss = 1.478\n",
      "Epoch 150 Batch    0/21   train_loss = 1.409\n",
      "Epoch 150 Batch    7/21   train_loss = 1.415\n",
      "Epoch 150 Batch   14/21   train_loss = 1.460\n",
      "Epoch 151 Batch    0/21   train_loss = 1.391\n",
      "Epoch 151 Batch    7/21   train_loss = 1.398\n",
      "Epoch 151 Batch   14/21   train_loss = 1.438\n",
      "Epoch 152 Batch    0/21   train_loss = 1.379\n",
      "Epoch 152 Batch    7/21   train_loss = 1.384\n",
      "Epoch 152 Batch   14/21   train_loss = 1.424\n",
      "Epoch 153 Batch    0/21   train_loss = 1.360\n",
      "Epoch 153 Batch    7/21   train_loss = 1.365\n",
      "Epoch 153 Batch   14/21   train_loss = 1.411\n",
      "Epoch 154 Batch    0/21   train_loss = 1.339\n",
      "Epoch 154 Batch    7/21   train_loss = 1.356\n",
      "Epoch 154 Batch   14/21   train_loss = 1.393\n",
      "Epoch 155 Batch    0/21   train_loss = 1.319\n",
      "Epoch 155 Batch    7/21   train_loss = 1.351\n",
      "Epoch 155 Batch   14/21   train_loss = 1.368\n",
      "Epoch 156 Batch    0/21   train_loss = 1.311\n",
      "Epoch 156 Batch    7/21   train_loss = 1.342\n",
      "Epoch 156 Batch   14/21   train_loss = 1.350\n",
      "Epoch 157 Batch    0/21   train_loss = 1.304\n",
      "Epoch 157 Batch    7/21   train_loss = 1.319\n",
      "Epoch 157 Batch   14/21   train_loss = 1.338\n",
      "Epoch 158 Batch    0/21   train_loss = 1.285\n",
      "Epoch 158 Batch    7/21   train_loss = 1.301\n",
      "Epoch 158 Batch   14/21   train_loss = 1.320\n",
      "Epoch 159 Batch    0/21   train_loss = 1.271\n",
      "Epoch 159 Batch    7/21   train_loss = 1.281\n",
      "Epoch 159 Batch   14/21   train_loss = 1.306\n",
      "Epoch 160 Batch    0/21   train_loss = 1.255\n",
      "Epoch 160 Batch    7/21   train_loss = 1.267\n",
      "Epoch 160 Batch   14/21   train_loss = 1.295\n",
      "Epoch 161 Batch    0/21   train_loss = 1.237\n",
      "Epoch 161 Batch    7/21   train_loss = 1.254\n",
      "Epoch 161 Batch   14/21   train_loss = 1.278\n",
      "Epoch 162 Batch    0/21   train_loss = 1.221\n",
      "Epoch 162 Batch    7/21   train_loss = 1.240\n",
      "Epoch 162 Batch   14/21   train_loss = 1.263\n",
      "Epoch 163 Batch    0/21   train_loss = 1.207\n",
      "Epoch 163 Batch    7/21   train_loss = 1.226\n",
      "Epoch 163 Batch   14/21   train_loss = 1.249\n",
      "Epoch 164 Batch    0/21   train_loss = 1.195\n",
      "Epoch 164 Batch    7/21   train_loss = 1.214\n",
      "Epoch 164 Batch   14/21   train_loss = 1.235\n",
      "Epoch 165 Batch    0/21   train_loss = 1.184\n",
      "Epoch 165 Batch    7/21   train_loss = 1.205\n",
      "Epoch 165 Batch   14/21   train_loss = 1.223\n",
      "Epoch 166 Batch    0/21   train_loss = 1.171\n",
      "Epoch 166 Batch    7/21   train_loss = 1.194\n",
      "Epoch 166 Batch   14/21   train_loss = 1.210\n",
      "Epoch 167 Batch    0/21   train_loss = 1.163\n",
      "Epoch 167 Batch    7/21   train_loss = 1.184\n",
      "Epoch 167 Batch   14/21   train_loss = 1.199\n",
      "Epoch 168 Batch    0/21   train_loss = 1.160\n",
      "Epoch 168 Batch    7/21   train_loss = 1.169\n",
      "Epoch 168 Batch   14/21   train_loss = 1.192\n",
      "Epoch 169 Batch    0/21   train_loss = 1.150\n",
      "Epoch 169 Batch    7/21   train_loss = 1.159\n",
      "Epoch 169 Batch   14/21   train_loss = 1.177\n",
      "Epoch 170 Batch    0/21   train_loss = 1.137\n",
      "Epoch 170 Batch    7/21   train_loss = 1.143\n",
      "Epoch 170 Batch   14/21   train_loss = 1.163\n",
      "Epoch 171 Batch    0/21   train_loss = 1.127\n",
      "Epoch 171 Batch    7/21   train_loss = 1.130\n",
      "Epoch 171 Batch   14/21   train_loss = 1.154\n",
      "Epoch 172 Batch    0/21   train_loss = 1.114\n",
      "Epoch 172 Batch    7/21   train_loss = 1.123\n",
      "Epoch 172 Batch   14/21   train_loss = 1.147\n",
      "Epoch 173 Batch    0/21   train_loss = 1.106\n",
      "Epoch 173 Batch    7/21   train_loss = 1.112\n",
      "Epoch 173 Batch   14/21   train_loss = 1.135\n",
      "Epoch 174 Batch    0/21   train_loss = 1.094\n",
      "Epoch 174 Batch    7/21   train_loss = 1.103\n",
      "Epoch 174 Batch   14/21   train_loss = 1.125\n",
      "Epoch 175 Batch    0/21   train_loss = 1.087\n",
      "Epoch 175 Batch    7/21   train_loss = 1.097\n",
      "Epoch 175 Batch   14/21   train_loss = 1.116\n",
      "Epoch 176 Batch    0/21   train_loss = 1.074\n",
      "Epoch 176 Batch    7/21   train_loss = 1.079\n",
      "Epoch 176 Batch   14/21   train_loss = 1.111\n",
      "Epoch 177 Batch    0/21   train_loss = 1.060\n",
      "Epoch 177 Batch    7/21   train_loss = 1.067\n",
      "Epoch 177 Batch   14/21   train_loss = 1.099\n",
      "Epoch 178 Batch    0/21   train_loss = 1.051\n",
      "Epoch 178 Batch    7/21   train_loss = 1.056\n",
      "Epoch 178 Batch   14/21   train_loss = 1.089\n",
      "Epoch 179 Batch    0/21   train_loss = 1.042\n",
      "Epoch 179 Batch    7/21   train_loss = 1.045\n",
      "Epoch 179 Batch   14/21   train_loss = 1.085\n",
      "Epoch 180 Batch    0/21   train_loss = 1.040\n",
      "Epoch 180 Batch    7/21   train_loss = 1.035\n",
      "Epoch 180 Batch   14/21   train_loss = 1.073\n",
      "Epoch 181 Batch    0/21   train_loss = 1.027\n",
      "Epoch 181 Batch    7/21   train_loss = 1.026\n",
      "Epoch 181 Batch   14/21   train_loss = 1.071\n",
      "Epoch 182 Batch    0/21   train_loss = 1.013\n",
      "Epoch 182 Batch    7/21   train_loss = 1.018\n",
      "Epoch 182 Batch   14/21   train_loss = 1.058\n",
      "Epoch 183 Batch    0/21   train_loss = 1.002\n",
      "Epoch 183 Batch    7/21   train_loss = 1.002\n",
      "Epoch 183 Batch   14/21   train_loss = 1.041\n",
      "Epoch 184 Batch    0/21   train_loss = 0.995\n",
      "Epoch 184 Batch    7/21   train_loss = 0.999\n",
      "Epoch 184 Batch   14/21   train_loss = 1.033\n",
      "Epoch 185 Batch    0/21   train_loss = 0.978\n",
      "Epoch 185 Batch    7/21   train_loss = 0.985\n",
      "Epoch 185 Batch   14/21   train_loss = 1.021\n",
      "Epoch 186 Batch    0/21   train_loss = 0.963\n",
      "Epoch 186 Batch    7/21   train_loss = 0.973\n",
      "Epoch 186 Batch   14/21   train_loss = 1.008\n",
      "Epoch 187 Batch    0/21   train_loss = 0.953\n",
      "Epoch 187 Batch    7/21   train_loss = 0.962\n",
      "Epoch 187 Batch   14/21   train_loss = 0.997\n",
      "Epoch 188 Batch    0/21   train_loss = 0.949\n",
      "Epoch 188 Batch    7/21   train_loss = 0.953\n",
      "Epoch 188 Batch   14/21   train_loss = 0.986\n",
      "Epoch 189 Batch    0/21   train_loss = 0.938\n",
      "Epoch 189 Batch    7/21   train_loss = 0.945\n",
      "Epoch 189 Batch   14/21   train_loss = 0.975\n",
      "Epoch 190 Batch    0/21   train_loss = 0.933\n",
      "Epoch 190 Batch    7/21   train_loss = 0.932\n",
      "Epoch 190 Batch   14/21   train_loss = 0.972\n",
      "Epoch 191 Batch    0/21   train_loss = 0.920\n",
      "Epoch 191 Batch    7/21   train_loss = 0.926\n",
      "Epoch 191 Batch   14/21   train_loss = 0.967\n",
      "Epoch 192 Batch    0/21   train_loss = 0.912\n",
      "Epoch 192 Batch    7/21   train_loss = 0.922\n",
      "Epoch 192 Batch   14/21   train_loss = 0.953\n",
      "Epoch 193 Batch    0/21   train_loss = 0.909\n",
      "Epoch 193 Batch    7/21   train_loss = 0.916\n",
      "Epoch 193 Batch   14/21   train_loss = 0.934\n",
      "Epoch 194 Batch    0/21   train_loss = 0.900\n",
      "Epoch 194 Batch    7/21   train_loss = 0.903\n",
      "Epoch 194 Batch   14/21   train_loss = 0.926\n",
      "Epoch 195 Batch    0/21   train_loss = 0.891\n",
      "Epoch 195 Batch    7/21   train_loss = 0.892\n",
      "Epoch 195 Batch   14/21   train_loss = 0.923\n",
      "Epoch 196 Batch    0/21   train_loss = 0.876\n",
      "Epoch 196 Batch    7/21   train_loss = 0.878\n",
      "Epoch 196 Batch   14/21   train_loss = 0.913\n",
      "Epoch 197 Batch    0/21   train_loss = 0.867\n",
      "Epoch 197 Batch    7/21   train_loss = 0.869\n",
      "Epoch 197 Batch   14/21   train_loss = 0.900\n",
      "Epoch 198 Batch    0/21   train_loss = 0.861\n",
      "Epoch 198 Batch    7/21   train_loss = 0.861\n",
      "Epoch 198 Batch   14/21   train_loss = 0.896\n",
      "Epoch 199 Batch    0/21   train_loss = 0.853\n",
      "Epoch 199 Batch    7/21   train_loss = 0.856\n",
      "Epoch 199 Batch   14/21   train_loss = 0.896\n",
      "Epoch 200 Batch    0/21   train_loss = 0.839\n",
      "Epoch 200 Batch    7/21   train_loss = 0.845\n",
      "Epoch 200 Batch   14/21   train_loss = 0.883\n",
      "Epoch 201 Batch    0/21   train_loss = 0.833\n",
      "Epoch 201 Batch    7/21   train_loss = 0.843\n",
      "Epoch 201 Batch   14/21   train_loss = 0.875\n",
      "Epoch 202 Batch    0/21   train_loss = 0.822\n",
      "Epoch 202 Batch    7/21   train_loss = 0.841\n",
      "Epoch 202 Batch   14/21   train_loss = 0.864\n",
      "Epoch 203 Batch    0/21   train_loss = 0.816\n",
      "Epoch 203 Batch    7/21   train_loss = 0.840\n",
      "Epoch 203 Batch   14/21   train_loss = 0.855\n",
      "Epoch 204 Batch    0/21   train_loss = 0.805\n",
      "Epoch 204 Batch    7/21   train_loss = 0.832\n",
      "Epoch 204 Batch   14/21   train_loss = 0.845\n",
      "Epoch 205 Batch    0/21   train_loss = 0.802\n",
      "Epoch 205 Batch    7/21   train_loss = 0.825\n",
      "Epoch 205 Batch   14/21   train_loss = 0.828\n",
      "Epoch 206 Batch    0/21   train_loss = 0.798\n",
      "Epoch 206 Batch    7/21   train_loss = 0.820\n",
      "Epoch 206 Batch   14/21   train_loss = 0.823\n",
      "Epoch 207 Batch    0/21   train_loss = 0.802\n",
      "Epoch 207 Batch    7/21   train_loss = 0.805\n",
      "Epoch 207 Batch   14/21   train_loss = 0.816\n",
      "Epoch 208 Batch    0/21   train_loss = 0.786\n",
      "Epoch 208 Batch    7/21   train_loss = 0.800\n",
      "Epoch 208 Batch   14/21   train_loss = 0.807\n",
      "Epoch 209 Batch    0/21   train_loss = 0.783\n",
      "Epoch 209 Batch    7/21   train_loss = 0.782\n",
      "Epoch 209 Batch   14/21   train_loss = 0.799\n",
      "Epoch 210 Batch    0/21   train_loss = 0.779\n",
      "Epoch 210 Batch    7/21   train_loss = 0.773\n",
      "Epoch 210 Batch   14/21   train_loss = 0.791\n",
      "Epoch 211 Batch    0/21   train_loss = 0.761\n",
      "Epoch 211 Batch    7/21   train_loss = 0.767\n",
      "Epoch 211 Batch   14/21   train_loss = 0.787\n",
      "Epoch 212 Batch    0/21   train_loss = 0.749\n",
      "Epoch 212 Batch    7/21   train_loss = 0.757\n",
      "Epoch 212 Batch   14/21   train_loss = 0.782\n",
      "Epoch 213 Batch    0/21   train_loss = 0.747\n",
      "Epoch 213 Batch    7/21   train_loss = 0.752\n",
      "Epoch 213 Batch   14/21   train_loss = 0.773\n",
      "Epoch 214 Batch    0/21   train_loss = 0.748\n",
      "Epoch 214 Batch    7/21   train_loss = 0.750\n",
      "Epoch 214 Batch   14/21   train_loss = 0.766\n",
      "Epoch 215 Batch    0/21   train_loss = 0.743\n",
      "Epoch 215 Batch    7/21   train_loss = 0.741\n",
      "Epoch 215 Batch   14/21   train_loss = 0.775\n",
      "Epoch 216 Batch    0/21   train_loss = 0.739\n",
      "Epoch 216 Batch    7/21   train_loss = 0.731\n",
      "Epoch 216 Batch   14/21   train_loss = 0.766\n",
      "Epoch 217 Batch    0/21   train_loss = 0.727\n",
      "Epoch 217 Batch    7/21   train_loss = 0.723\n",
      "Epoch 217 Batch   14/21   train_loss = 0.762\n",
      "Epoch 218 Batch    0/21   train_loss = 0.716\n",
      "Epoch 218 Batch    7/21   train_loss = 0.714\n",
      "Epoch 218 Batch   14/21   train_loss = 0.749\n",
      "Epoch 219 Batch    0/21   train_loss = 0.701\n",
      "Epoch 219 Batch    7/21   train_loss = 0.709\n",
      "Epoch 219 Batch   14/21   train_loss = 0.732\n",
      "Epoch 220 Batch    0/21   train_loss = 0.698\n",
      "Epoch 220 Batch    7/21   train_loss = 0.695\n",
      "Epoch 220 Batch   14/21   train_loss = 0.720\n",
      "Epoch 221 Batch    0/21   train_loss = 0.688\n",
      "Epoch 221 Batch    7/21   train_loss = 0.681\n",
      "Epoch 221 Batch   14/21   train_loss = 0.712\n",
      "Epoch 222 Batch    0/21   train_loss = 0.678\n",
      "Epoch 222 Batch    7/21   train_loss = 0.668\n",
      "Epoch 222 Batch   14/21   train_loss = 0.709\n",
      "Epoch 223 Batch    0/21   train_loss = 0.666\n",
      "Epoch 223 Batch    7/21   train_loss = 0.661\n",
      "Epoch 223 Batch   14/21   train_loss = 0.704\n",
      "Epoch 224 Batch    0/21   train_loss = 0.658\n",
      "Epoch 224 Batch    7/21   train_loss = 0.654\n",
      "Epoch 224 Batch   14/21   train_loss = 0.695\n",
      "Epoch 225 Batch    0/21   train_loss = 0.648\n",
      "Epoch 225 Batch    7/21   train_loss = 0.646\n",
      "Epoch 225 Batch   14/21   train_loss = 0.683\n",
      "Epoch 226 Batch    0/21   train_loss = 0.636\n",
      "Epoch 226 Batch    7/21   train_loss = 0.638\n",
      "Epoch 226 Batch   14/21   train_loss = 0.675\n",
      "Epoch 227 Batch    0/21   train_loss = 0.629\n",
      "Epoch 227 Batch    7/21   train_loss = 0.630\n",
      "Epoch 227 Batch   14/21   train_loss = 0.666\n",
      "Epoch 228 Batch    0/21   train_loss = 0.624\n",
      "Epoch 228 Batch    7/21   train_loss = 0.622\n",
      "Epoch 228 Batch   14/21   train_loss = 0.658\n",
      "Epoch 229 Batch    0/21   train_loss = 0.616\n",
      "Epoch 229 Batch    7/21   train_loss = 0.612\n",
      "Epoch 229 Batch   14/21   train_loss = 0.655\n",
      "Epoch 230 Batch    0/21   train_loss = 0.609\n",
      "Epoch 230 Batch    7/21   train_loss = 0.610\n",
      "Epoch 230 Batch   14/21   train_loss = 0.647\n",
      "Epoch 231 Batch    0/21   train_loss = 0.601\n",
      "Epoch 231 Batch    7/21   train_loss = 0.606\n",
      "Epoch 231 Batch   14/21   train_loss = 0.639\n",
      "Epoch 232 Batch    0/21   train_loss = 0.595\n",
      "Epoch 232 Batch    7/21   train_loss = 0.600\n",
      "Epoch 232 Batch   14/21   train_loss = 0.632\n",
      "Epoch 233 Batch    0/21   train_loss = 0.592\n",
      "Epoch 233 Batch    7/21   train_loss = 0.597\n",
      "Epoch 233 Batch   14/21   train_loss = 0.624\n",
      "Epoch 234 Batch    0/21   train_loss = 0.585\n",
      "Epoch 234 Batch    7/21   train_loss = 0.589\n",
      "Epoch 234 Batch   14/21   train_loss = 0.613\n",
      "Epoch 235 Batch    0/21   train_loss = 0.579\n",
      "Epoch 235 Batch    7/21   train_loss = 0.583\n",
      "Epoch 235 Batch   14/21   train_loss = 0.607\n",
      "Epoch 236 Batch    0/21   train_loss = 0.578\n",
      "Epoch 236 Batch    7/21   train_loss = 0.573\n",
      "Epoch 236 Batch   14/21   train_loss = 0.599\n",
      "Epoch 237 Batch    0/21   train_loss = 0.569\n",
      "Epoch 237 Batch    7/21   train_loss = 0.572\n",
      "Epoch 237 Batch   14/21   train_loss = 0.595\n",
      "Epoch 238 Batch    0/21   train_loss = 0.568\n",
      "Epoch 238 Batch    7/21   train_loss = 0.566\n",
      "Epoch 238 Batch   14/21   train_loss = 0.588\n",
      "Epoch 239 Batch    0/21   train_loss = 0.560\n",
      "Epoch 239 Batch    7/21   train_loss = 0.559\n",
      "Epoch 239 Batch   14/21   train_loss = 0.583\n",
      "Epoch 240 Batch    0/21   train_loss = 0.556\n",
      "Epoch 240 Batch    7/21   train_loss = 0.554\n",
      "Epoch 240 Batch   14/21   train_loss = 0.574\n",
      "Epoch 241 Batch    0/21   train_loss = 0.552\n",
      "Epoch 241 Batch    7/21   train_loss = 0.551\n",
      "Epoch 241 Batch   14/21   train_loss = 0.568\n",
      "Epoch 242 Batch    0/21   train_loss = 0.543\n",
      "Epoch 242 Batch    7/21   train_loss = 0.545\n",
      "Epoch 242 Batch   14/21   train_loss = 0.563\n",
      "Epoch 243 Batch    0/21   train_loss = 0.541\n",
      "Epoch 243 Batch    7/21   train_loss = 0.550\n",
      "Epoch 243 Batch   14/21   train_loss = 0.562\n",
      "Epoch 244 Batch    0/21   train_loss = 0.540\n",
      "Epoch 244 Batch    7/21   train_loss = 0.538\n",
      "Epoch 244 Batch   14/21   train_loss = 0.552\n",
      "Epoch 245 Batch    0/21   train_loss = 0.537\n",
      "Epoch 245 Batch    7/21   train_loss = 0.528\n",
      "Epoch 245 Batch   14/21   train_loss = 0.552\n",
      "Epoch 246 Batch    0/21   train_loss = 0.527\n",
      "Epoch 246 Batch    7/21   train_loss = 0.521\n",
      "Epoch 246 Batch   14/21   train_loss = 0.546\n",
      "Epoch 247 Batch    0/21   train_loss = 0.516\n",
      "Epoch 247 Batch    7/21   train_loss = 0.515\n",
      "Epoch 247 Batch   14/21   train_loss = 0.538\n",
      "Epoch 248 Batch    0/21   train_loss = 0.507\n",
      "Epoch 248 Batch    7/21   train_loss = 0.507\n",
      "Epoch 248 Batch   14/21   train_loss = 0.524\n",
      "Epoch 249 Batch    0/21   train_loss = 0.500\n",
      "Epoch 249 Batch    7/21   train_loss = 0.500\n",
      "Epoch 249 Batch   14/21   train_loss = 0.515\n",
      "Model Trained and Saved\n"
     ]
    }
   ],
   "source": [
    "\"\"\"\n",
    "DON'T MODIFY ANYTHING IN THIS CELL\n",
    "\"\"\"\n",
    "batches = get_batches(int_text, batch_size, seq_length)\n",
    "\n",
    "with tf.Session(graph=train_graph) as sess:\n",
    "    sess.run(tf.global_variables_initializer())\n",
    "\n",
    "    for epoch_i in range(num_epochs):\n",
    "        state = sess.run(initial_state, {input_text: batches[0][0]})\n",
    "\n",
    "        for batch_i, (x, y) in enumerate(batches):\n",
    "            feed = {\n",
    "                input_text: x,\n",
    "                targets: y,\n",
    "                initial_state: state,\n",
    "                lr: learning_rate}\n",
    "            train_loss, state, _ = sess.run([cost, final_state, train_op], feed)\n",
    "\n",
    "            # Show every <show_every_n_batches> batches\n",
    "            if (epoch_i * len(batches) + batch_i) % show_every_n_batches == 0:\n",
    "                print('Epoch {:>3} Batch {:>4}/{}   train_loss = {:.3f}'.format(\n",
    "                    epoch_i,\n",
    "                    batch_i,\n",
    "                    len(batches),\n",
    "                    train_loss))\n",
    "\n",
    "    # Save Model\n",
    "    saver = tf.train.Saver()\n",
    "    saver.save(sess, save_dir)\n",
    "    print('Model Trained and Saved')"
   ]
  },
  {
   "cell_type": "code",
   "execution_count": 38,
   "metadata": {
    "collapsed": false
   },
   "outputs": [
    {
     "name": "stdout",
     "output_type": "stream",
     "text": [
      "Training time: 1120.3344430923462s\n"
     ]
    }
   ],
   "source": [
    "print('Training time: {}s'.format(time.time()-start))"
   ]
  },
  {
   "cell_type": "code",
   "execution_count": 39,
   "metadata": {
    "collapsed": false
   },
   "outputs": [
    {
     "data": {
      "text/plain": [
       "(21, 2, 64, 50)"
      ]
     },
     "execution_count": 39,
     "metadata": {},
     "output_type": "execute_result"
    }
   ],
   "source": [
    "batches.shape"
   ]
  },
  {
   "cell_type": "code",
   "execution_count": 40,
   "metadata": {
    "collapsed": false
   },
   "outputs": [
    {
     "data": {
      "text/plain": [
       "69101"
      ]
     },
     "execution_count": 40,
     "metadata": {},
     "output_type": "execute_result"
    }
   ],
   "source": [
    "len(int_text)"
   ]
  },
  {
   "cell_type": "markdown",
   "metadata": {},
   "source": [
    "```\n",
    "# Number of Epochs\n",
    "num_epochs = 100\n",
    "# Batch Size\n",
    "batch_size = 128\n",
    "# RNN Size\n",
    "rnn_size = 256\n",
    "# Sequence Length\n",
    "seq_length = 200\n",
    "# Learning Rate\n",
    "learning_rate = 0.001\n",
    "\n",
    "ResourceExhaustedError: OOM when allocating tensor with shape[25600,6780]\n",
    "```"
   ]
  },
  {
   "cell_type": "markdown",
   "metadata": {
    "deletable": true,
    "editable": true
   },
   "source": [
    "## Save Parameters\n",
    "Save `seq_length` and `save_dir` for generating a new TV script."
   ]
  },
  {
   "cell_type": "code",
   "execution_count": 41,
   "metadata": {
    "collapsed": false,
    "deletable": true,
    "editable": true
   },
   "outputs": [],
   "source": [
    "\"\"\"\n",
    "DON'T MODIFY ANYTHING IN THIS CELL\n",
    "\"\"\"\n",
    "# Save parameters for checkpoint\n",
    "helper.save_params((seq_length, save_dir))"
   ]
  },
  {
   "cell_type": "markdown",
   "metadata": {
    "deletable": true,
    "editable": true
   },
   "source": [
    "# Checkpoint"
   ]
  },
  {
   "cell_type": "code",
   "execution_count": 42,
   "metadata": {
    "collapsed": false,
    "deletable": true,
    "editable": true
   },
   "outputs": [],
   "source": [
    "\"\"\"\n",
    "DON'T MODIFY ANYTHING IN THIS CELL\n",
    "\"\"\"\n",
    "import tensorflow as tf\n",
    "import numpy as np\n",
    "import helper\n",
    "import problem_unittests as tests\n",
    "\n",
    "_, vocab_to_int, int_to_vocab, token_dict = helper.load_preprocess()\n",
    "seq_length, load_dir = helper.load_params()"
   ]
  },
  {
   "cell_type": "markdown",
   "metadata": {
    "deletable": true,
    "editable": true
   },
   "source": [
    "## Implement Generate Functions\n",
    "### Get Tensors\n",
    "Get tensors from `loaded_graph` using the function [`get_tensor_by_name()`](https://www.tensorflow.org/api_docs/python/tf/Graph#get_tensor_by_name).  Get the tensors using the following names:\n",
    "- \"input:0\"\n",
    "- \"initial_state:0\"\n",
    "- \"final_state:0\"\n",
    "- \"probs:0\"\n",
    "\n",
    "Return the tensors in the following tuple `(InputTensor, InitialStateTensor, FinalStateTensor, ProbsTensor)` "
   ]
  },
  {
   "cell_type": "code",
   "execution_count": 43,
   "metadata": {
    "collapsed": false,
    "deletable": true,
    "editable": true
   },
   "outputs": [
    {
     "name": "stdout",
     "output_type": "stream",
     "text": [
      "Tests Passed\n"
     ]
    }
   ],
   "source": [
    "def get_tensors(loaded_graph):\n",
    "    \"\"\"\n",
    "    Get input, initial state, final state, and probabilities tensor from <loaded_graph>\n",
    "    :param loaded_graph: TensorFlow graph loaded from file\n",
    "    :return: Tuple (InputTensor, InitialStateTensor, FinalStateTensor, ProbsTensor)\n",
    "    \"\"\"\n",
    "    # TODO: Implement Function\n",
    "    InputTensor = loaded_graph.get_tensor_by_name('input:0')\n",
    "    InitialStateTensor = loaded_graph.get_tensor_by_name('initial_state:0')\n",
    "    FinalStateTensor = loaded_graph.get_tensor_by_name('final_state:0')\n",
    "    ProbsTensor = loaded_graph.get_tensor_by_name('probs:0')\n",
    "    return InputTensor, InitialStateTensor, FinalStateTensor, ProbsTensor\n",
    "\n",
    "\n",
    "\"\"\"\n",
    "DON'T MODIFY ANYTHING IN THIS CELL THAT IS BELOW THIS LINE\n",
    "\"\"\"\n",
    "tests.test_get_tensors(get_tensors)"
   ]
  },
  {
   "cell_type": "markdown",
   "metadata": {
    "deletable": true,
    "editable": true
   },
   "source": [
    "### Choose Word\n",
    "Implement the `pick_word()` function to select the next word using `probabilities`."
   ]
  },
  {
   "cell_type": "code",
   "execution_count": 44,
   "metadata": {
    "collapsed": false,
    "deletable": true,
    "editable": true
   },
   "outputs": [
    {
     "name": "stdout",
     "output_type": "stream",
     "text": [
      "Tests Passed\n"
     ]
    }
   ],
   "source": [
    "def pick_word(probabilities, int_to_vocab):\n",
    "    \"\"\"\n",
    "    Pick the next word in the generated text\n",
    "    :param probabilities: Probabilites of the next word\n",
    "    :param int_to_vocab: Dictionary of word ids as the keys and words as the values\n",
    "    :return: String of the predicted word\n",
    "    \"\"\"\n",
    "    # TODO: Implement Function\n",
    "    c = np.random.choice(list(int_to_vocab.keys()), 1, p=probabilities)[0]\n",
    "    return int_to_vocab[c]\n",
    "\n",
    "\n",
    "\"\"\"\n",
    "DON'T MODIFY ANYTHING IN THIS CELL THAT IS BELOW THIS LINE\n",
    "\"\"\"\n",
    "tests.test_pick_word(pick_word)"
   ]
  },
  {
   "cell_type": "markdown",
   "metadata": {
    "deletable": true,
    "editable": true
   },
   "source": [
    "## Generate TV Script\n",
    "This will generate the TV script for you.  Set `gen_length` to the length of TV script you want to generate."
   ]
  },
  {
   "cell_type": "code",
   "execution_count": 45,
   "metadata": {
    "collapsed": false,
    "deletable": true,
    "editable": true,
    "scrolled": false
   },
   "outputs": [
    {
     "name": "stdout",
     "output_type": "stream",
     "text": [
      "moe_szyslak:(into phone) uh, that's always about my daughter.\n",
      "moe_szyslak:(shocked) are you nuts? i learned something about myself.\n",
      "homer_simpson:(sly) are you nuts? i was just drawin' wangs on the numbers.\n",
      "homer_simpson:(computer voice) yes, i wonder what's the big loser?\n",
      "lenny_leonard: well, i'm just gonna let anything you've got to lose my favorite meal, the rope will come in some dingy flophouse.\n",
      "dan_gillick: really?(hopeful) in-ground is in the\" flaming homers\"?\n",
      "\n",
      "\n",
      "seymour_skinner: who is that windex?(to moe) she's a state runners up in advance.\n",
      "lenny_leonard: huh?\n",
      "lenny_leonard: not true!\n",
      "barney_gumble: so, i'm just gonna gamble with my daughter's future.\n",
      "moe_szyslak: nah, come here.\n",
      "harv: we feel about the new life in fact, chug-monkeys. ooh, ooh, taking advantage of my generous treasure...(third head) it's all relative. that's right, everybody a minute-- this is the big time.\n",
      "homer_simpson: okay, burger king! whatever! c'mon, moe.\n",
      "homer_simpson: thanks, moe.(laughs)\n",
      "moe_szyslak:(yelp of pain) bottom of my sweet spot.\n",
      "moe_szyslak: goodnight, that's okay, maybe about how i lose?\n",
      "chief_wiggum:(cool indifference) yeah, yeah, yeah, yeah, i was thinking what i ever have you to meet her right now.\n",
      "lenny_leonard: don't forget that fish snout.\n",
      "moe_szyslak:(accusing) mrs. that's like i'm here. there is now!\n",
      "homer_simpson: the one free beer!\n",
      "homer_simpson:(reading)\" strokkur geysir.\"\n",
      "moe_szyslak:(simultaneous) i/you could do it.\n",
      "waylon_smithers: uh, ain't never come here.\n",
      "marge_simpson: i did it happen to my best friends. last name strap.\n",
      "homer_simpson:(prompting) completing each other's... we had to give a speech tomorrow on the foibles!\n",
      "duffman: hey, sure. ooh, you want me a little more to me.\n",
      "michael_stipe: oh, wait a minute! i was very\n"
     ]
    }
   ],
   "source": [
    "gen_length = 400\n",
    "# homer_simpson, moe_szyslak, or Barney_Gumble\n",
    "prime_word = 'moe_szyslak'\n",
    "\n",
    "\"\"\"\n",
    "DON'T MODIFY ANYTHING IN THIS CELL THAT IS BELOW THIS LINE\n",
    "\"\"\"\n",
    "loaded_graph = tf.Graph()\n",
    "with tf.Session(graph=loaded_graph) as sess:\n",
    "    # Load saved model\n",
    "    loader = tf.train.import_meta_graph(load_dir + '.meta')\n",
    "    loader.restore(sess, load_dir)\n",
    "\n",
    "    # Get Tensors from loaded model\n",
    "    input_text, initial_state, final_state, probs = get_tensors(loaded_graph)\n",
    "\n",
    "    # Sentences generation setup\n",
    "    gen_sentences = [prime_word + ':']\n",
    "    prev_state = sess.run(initial_state, {input_text: np.array([[1]])})\n",
    "\n",
    "    # Generate sentences\n",
    "    for n in range(gen_length):\n",
    "        # Dynamic Input\n",
    "        dyn_input = [[vocab_to_int[word] for word in gen_sentences[-seq_length:]]]\n",
    "        dyn_seq_length = len(dyn_input[0])\n",
    "\n",
    "        # Get Prediction\n",
    "        probabilities, prev_state = sess.run(\n",
    "            [probs, final_state],\n",
    "            {input_text: dyn_input, initial_state: prev_state})\n",
    "        \n",
    "        pred_word = pick_word(probabilities[dyn_seq_length-1], int_to_vocab)\n",
    "\n",
    "        gen_sentences.append(pred_word)\n",
    "    \n",
    "    # Remove tokens\n",
    "    tv_script = ' '.join(gen_sentences)\n",
    "    for key, token in token_dict.items():\n",
    "        ending = ' ' if key in ['\\n', '(', '\"'] else ''\n",
    "        tv_script = tv_script.replace(' ' + token.lower(), key)\n",
    "    tv_script = tv_script.replace('\\n ', '\\n')\n",
    "    tv_script = tv_script.replace('( ', '(')\n",
    "        \n",
    "    print(tv_script)"
   ]
  },
  {
   "cell_type": "markdown",
   "metadata": {},
   "source": [
    "num_epochs = 200\n",
    "```\n",
    "moe_szyslak: no, the kids you go-- he wrote the parking plan.\n",
    "moe_szyslak: a big cat before. how'd i do it seem like ya...\n",
    "homer_simpson: moe, i'm a british pub! i'm a squirrel squashing, you left a friend i'm gonna have.\n",
    "barney_gumble: hey homer, sorry. get everything while they please/ still then. we want you to play.\n",
    "c. bring her with a whatchacallit, homer.\n",
    "homer_simpson: moe, that's funny and ever had same kid.\n",
    "homer_simpson: barney! ow! thank god, you crazy dames i think so sudden.\n",
    "homer_simpson: four little bart.(dramatic, omigod, then instantly sober, and i ever without no one ever orders that.\n",
    "homer_simpson:(murmur understanding assent) listen over.\n",
    "moe_szyslak: glad you read me more to make ya live.\n",
    "bill_james: i had a better open with my meals!\n",
    "larry:(closes phone) yeah!\n",
    "moe_szyslak: well, we mean bad. we've got a two conference champs must survive a tomorrow, but they wanted it as mr.(dropping character) and love mr. and we belong to the president?\n",
    "moe_szyslak: i got is time.\n",
    "carl_carlson:(hurt sigh) ah, boy. think, i gestated for all right. uh, where i have some tanking up.\n",
    "homer_simpson: nobody meeting.(wistful) all right, alls i was able to school.\n",
    "artie_ziff: pardon the waterfront oh yeah, looks like the ball.\n",
    "carl_carlson: grinch.\n",
    "moe_szyslak: oh, ah, that's all right.\n",
    "moe_szyslak:(sniffles, then said:(sigh)...(philosophical)\"(tapping mic) it'll be eatin' wish-meat every day i even before... seems jacques strap! what the hell kinda here?\n",
    "anthony_kiedis: you better.\n",
    "homer_simpson: oh, i think i pop find that how do you won't tell that this place terrible.\n",
    "homer_simpson: oh, i'm afraid yeah. here, england's springfield isn't against my mom can learn more made myself to win some cotton in the ladies-- and all i should\n",
    "```"
   ]
  },
  {
   "cell_type": "markdown",
   "metadata": {},
   "source": [
    "num_epochs = 100\n",
    "```\n",
    "moe_szyslak: ooh!(peeved) ah..... and if anybody wants potato chips or anything fancy, even before i can take my vacations someplace hot.\n",
    "moe_szyslak: oh yeah. can i ever think it's dangerous.\n",
    "barney_gumble: here you mind ridin' on fire.\n",
    "moe_szyslak:(struggling noises, then) god, for the day... well, when you do is your money...\n",
    "lenny_leonard: well, someone slipped me. there's lots of the while i says who should i never sell an opportunity to because we're living in a world. and you gotta wing it a little bit...\n",
    "homer_simpson:(sobs) what uh...(bitter) unlike me. it all comes.\n",
    "agent_miller: homer simpson? i never seen you drive your stupid.\n",
    "homer_simpson: gimme some peanuts.\n",
    "homer_simpson:(murderously) you and my trenchant my friend!\n",
    "chief_wiggum: the south of france..... this bashir kid is muslim, and therefore up here.\n",
    "homer_simpson:(finishing beer) you took youse up. take it as you i'm proposing is a great. but one day finally. very good. um, what you want to know that.\n",
    "homer_simpson: well, i just whisper it to spread and i'm an alcoholic. oh crap now, the health inspector?\n",
    "detective_homer_simpson: all right, all right. but homer_simpson: i know things if they're i compliment your purse / but that seems less funny each time i ran out of five. i did have the keys to make my rent.\n",
    "lenny_leonard: i got the job if you know... this place is the ultimate brain bleacher... can i can't two of that no numeral can be careful.\n",
    "rev. _hooper: no, i'm starting my car ain't worth nothin'.(moans) but it didn't die... and if anyone i saw you! we have a scotch and water.\n",
    "homer_simpson:(considers it) hunting, eh?\n",
    "barney_gumble:(horrified scream) no...\n",
    "homer_simpson:(warmly) oh, moe. and you\n",
    "```"
   ]
  },
  {
   "cell_type": "markdown",
   "metadata": {
    "deletable": true,
    "editable": true
   },
   "source": [
    "# The TV Script is Nonsensical\n",
    "It's ok if the TV script doesn't make any sense.  We trained on less than a megabyte of text.  In order to get good results, you'll have to use a smaller vocabulary or get more data.  Luckly there's more data!  As we mentioned in the beginning of this project, this is a subset of [another dataset](https://www.kaggle.com/wcukierski/the-simpsons-by-the-data).  We didn't have you train on all the data, because that would take too long.  However, you are free to train your neural network on all the data.  After you complete the project, of course.\n",
    "# Submitting This Project\n",
    "When submitting this project, make sure to run all the cells before saving the notebook. Save the notebook file as \"dlnd_tv_script_generation.ipynb\" and save it as a HTML file under \"File\" -> \"Download as\". Include the \"helper.py\" and \"problem_unittests.py\" files in your submission."
   ]
  }
 ],
 "metadata": {
  "kernelspec": {
   "display_name": "Python 3",
   "language": "python",
   "name": "python3"
  },
  "language_info": {
   "codemirror_mode": {
    "name": "ipython",
    "version": 3
   },
   "file_extension": ".py",
   "mimetype": "text/x-python",
   "name": "python",
   "nbconvert_exporter": "python",
   "pygments_lexer": "ipython3",
   "version": "3.5.3"
  },
  "widgets": {
   "state": {},
   "version": "1.1.2"
  }
 },
 "nbformat": 4,
 "nbformat_minor": 0
}
